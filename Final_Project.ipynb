{
 "metadata": {
  "language_info": {
   "codemirror_mode": {
    "name": "ipython",
    "version": 3
   },
   "file_extension": ".py",
   "mimetype": "text/x-python",
   "name": "python",
   "nbconvert_exporter": "python",
   "pygments_lexer": "ipython3",
   "version": "3.9.0-final"
  },
  "orig_nbformat": 2,
  "kernelspec": {
   "name": "python3",
   "display_name": "Python 3.9.0 64-bit",
   "metadata": {
    "interpreter": {
     "hash": "8da01e5a71448ea74f54d88afa8911010d1d12e23bc7e103d40d5def4a09152c"
    }
   }
  }
 },
 "nbformat": 4,
 "nbformat_minor": 2,
 "cells": [
  {
   "source": [
    "# Medical Appointment No Shows"
   ],
   "cell_type": "markdown",
   "metadata": {}
  },
  {
   "source": [
    "### dalam projek ini akan membahas dan menganalisis Ketidakhadiran pasien ketika telah membuat janji medis/jadwal bertemu dokter. \n",
    "\n",
    "### Beberapa contoh kasus diantaranya:\n",
    "- Seseorang telah membuat janji medis dan diberitahu semua persyaratan namun tidak datang di hari H. \n",
    "This dataset contains 110.527 medical appointments in Brazil and its 14 associated variables (characteristics). The most important one if the patient show-up or no-show to the appointment.\n",
    "\n",
    "One of these variables is scholarship, and this variable refers to the concept of Bolsa Família. It is a social welfare program of the Government of Brazil. Bolsa Família provides financial aid to poor Brazilian families. The program attempts to both reduce short-term poverty by direct cash transfers and fight long-term poverty by increasing human capital among the poor through conditional cash transfers. It also works to give free education to children who cannot afford to go to school to show the importance of education. To find more, you can check this"
   ],
   "cell_type": "markdown",
   "metadata": {}
  },
  {
   "cell_type": "code",
   "execution_count": 3,
   "metadata": {},
   "outputs": [],
   "source": [
    "# import library\n",
    "\n",
    "import pandas as pd\n",
    "import numpy as np\n",
    "import seaborn as sns\n",
    "import matplotlib.pyplot as plt"
   ]
  },
  {
   "cell_type": "code",
   "execution_count": 4,
   "metadata": {},
   "outputs": [
    {
     "output_type": "execute_result",
     "data": {
      "text/plain": [
       "      PatientId  AppointmentID Gender          ScheduledDay  \\\n",
       "0  2.990000e+13        5642903      F  2016-04-29T18:38:08Z   \n",
       "1  5.590000e+14        5642503      M  2016-04-29T16:08:27Z   \n",
       "2  4.260000e+12        5642549      F  2016-04-29T16:19:04Z   \n",
       "\n",
       "         AppointmentDay  Age    Neighbourhood  Scholarship  Hipertension  \\\n",
       "0  2016-04-29T00:00:00Z   62  JARDIM DA PENHA            0             1   \n",
       "1  2016-04-29T00:00:00Z   56  JARDIM DA PENHA            0             0   \n",
       "2  2016-04-29T00:00:00Z   62    MATA DA PRAIA            0             0   \n",
       "\n",
       "   Diabetes  Alcoholism  Handcap  SMS_received NoShow  \n",
       "0         0           0        0             0     No  \n",
       "1         0           0        0             0     No  \n",
       "2         0           0        0             0     No  "
      ],
      "text/html": "<div>\n<style scoped>\n    .dataframe tbody tr th:only-of-type {\n        vertical-align: middle;\n    }\n\n    .dataframe tbody tr th {\n        vertical-align: top;\n    }\n\n    .dataframe thead th {\n        text-align: right;\n    }\n</style>\n<table border=\"1\" class=\"dataframe\">\n  <thead>\n    <tr style=\"text-align: right;\">\n      <th></th>\n      <th>PatientId</th>\n      <th>AppointmentID</th>\n      <th>Gender</th>\n      <th>ScheduledDay</th>\n      <th>AppointmentDay</th>\n      <th>Age</th>\n      <th>Neighbourhood</th>\n      <th>Scholarship</th>\n      <th>Hipertension</th>\n      <th>Diabetes</th>\n      <th>Alcoholism</th>\n      <th>Handcap</th>\n      <th>SMS_received</th>\n      <th>NoShow</th>\n    </tr>\n  </thead>\n  <tbody>\n    <tr>\n      <th>0</th>\n      <td>2.990000e+13</td>\n      <td>5642903</td>\n      <td>F</td>\n      <td>2016-04-29T18:38:08Z</td>\n      <td>2016-04-29T00:00:00Z</td>\n      <td>62</td>\n      <td>JARDIM DA PENHA</td>\n      <td>0</td>\n      <td>1</td>\n      <td>0</td>\n      <td>0</td>\n      <td>0</td>\n      <td>0</td>\n      <td>No</td>\n    </tr>\n    <tr>\n      <th>1</th>\n      <td>5.590000e+14</td>\n      <td>5642503</td>\n      <td>M</td>\n      <td>2016-04-29T16:08:27Z</td>\n      <td>2016-04-29T00:00:00Z</td>\n      <td>56</td>\n      <td>JARDIM DA PENHA</td>\n      <td>0</td>\n      <td>0</td>\n      <td>0</td>\n      <td>0</td>\n      <td>0</td>\n      <td>0</td>\n      <td>No</td>\n    </tr>\n    <tr>\n      <th>2</th>\n      <td>4.260000e+12</td>\n      <td>5642549</td>\n      <td>F</td>\n      <td>2016-04-29T16:19:04Z</td>\n      <td>2016-04-29T00:00:00Z</td>\n      <td>62</td>\n      <td>MATA DA PRAIA</td>\n      <td>0</td>\n      <td>0</td>\n      <td>0</td>\n      <td>0</td>\n      <td>0</td>\n      <td>0</td>\n      <td>No</td>\n    </tr>\n  </tbody>\n</table>\n</div>"
     },
     "metadata": {},
     "execution_count": 4
    }
   ],
   "source": [
    "df= pd.read_csv('Med_appoinment.csv')\n",
    "df.head(3)"
   ]
  },
  {
   "cell_type": "code",
   "execution_count": 18,
   "metadata": {},
   "outputs": [
    {
     "output_type": "execute_result",
     "data": {
      "text/plain": [
       "(5000, 14)"
      ]
     },
     "metadata": {},
     "execution_count": 18
    }
   ],
   "source": [
    "# Ukuran dataframe memiliki 110.527 baris dan 14 kolom, sehingga untuk mengurangi beban executing dataframe dan mempermudah analisis, akan diambil 5000 data pertama.\n",
    "df.shape"
   ]
  },
  {
   "source": [
    "## A. EDA"
   ],
   "cell_type": "markdown",
   "metadata": {}
  },
  {
   "cell_type": "code",
   "execution_count": 19,
   "metadata": {},
   "outputs": [],
   "source": [
    "# Slicing data to be only 5000 first rows\n",
    "df = df.iloc[:5000, :]"
   ]
  },
  {
   "cell_type": "code",
   "execution_count": 20,
   "metadata": {},
   "outputs": [
    {
     "output_type": "stream",
     "name": "stdout",
     "text": [
      "<class 'pandas.core.frame.DataFrame'>\nRangeIndex: 5000 entries, 0 to 4999\nData columns (total 14 columns):\n #   Column          Non-Null Count  Dtype  \n---  ------          --------------  -----  \n 0   PatientId       5000 non-null   float64\n 1   AppointmentID   5000 non-null   int64  \n 2   Gender          5000 non-null   object \n 3   ScheduledDay    5000 non-null   object \n 4   AppointmentDay  5000 non-null   object \n 5   Age             5000 non-null   int64  \n 6   Neighbourhood   5000 non-null   object \n 7   Scholarship     5000 non-null   int64  \n 8   Hipertension    5000 non-null   int64  \n 9   Diabetes        5000 non-null   int64  \n 10  Alcoholism      5000 non-null   int64  \n 11  Handcap         5000 non-null   int64  \n 12  SMS_received    5000 non-null   int64  \n 13  NoShow          5000 non-null   object \ndtypes: float64(1), int64(8), object(5)\nmemory usage: 547.0+ KB\n"
     ]
    }
   ],
   "source": [
    "df.info()\n",
    "## ukuran dataframe sudah berupa 5000 entries dan 14 kolom"
   ]
  },
  {
   "cell_type": "code",
   "execution_count": 21,
   "metadata": {},
   "outputs": [
    {
     "output_type": "execute_result",
     "data": {
      "text/plain": [
       "0"
      ]
     },
     "metadata": {},
     "execution_count": 21
    }
   ],
   "source": [
    "# Mengecek nilai yang terduplikasi/non unique.\n",
    "df.duplicated().sum()"
   ]
  },
  {
   "cell_type": "code",
   "execution_count": 22,
   "metadata": {},
   "outputs": [
    {
     "output_type": "execute_result",
     "data": {
      "text/plain": [
       "PatientId         2424\n",
       "AppointmentID     5000\n",
       "Gender               2\n",
       "ScheduledDay      4899\n",
       "AppointmentDay      20\n",
       "Age                 95\n",
       "Neighbourhood       78\n",
       "Scholarship          2\n",
       "Hipertension         2\n",
       "Diabetes             2\n",
       "Alcoholism           2\n",
       "Handcap              4\n",
       "SMS_received         2\n",
       "NoShow               2\n",
       "dtype: int64"
      ]
     },
     "metadata": {},
     "execution_count": 22
    }
   ],
   "source": [
    "# Checking the number of the unique values for each variable, such as Neighbourhood, Handcap, and so on.\n",
    "df.nunique()"
   ]
  },
  {
   "cell_type": "code",
   "execution_count": 23,
   "metadata": {},
   "outputs": [
    {
     "output_type": "execute_result",
     "data": {
      "text/plain": [
       "          PatientId  AppointmentID          Age  Scholarship  Hipertension  \\\n",
       "count  5.000000e+03   5.000000e+03  5000.000000  5000.000000   5000.000000   \n",
       "mean   1.495594e+14   5.616103e+06    37.300800     0.088600      0.185400   \n",
       "std    2.584962e+14   6.973119e+04    23.146574     0.284194      0.388661   \n",
       "min    9.380000e+04   5.030230e+06     0.000000     0.000000      0.000000   \n",
       "25%    4.160000e+12   5.580300e+06    18.000000     0.000000      0.000000   \n",
       "50%    2.880000e+13   5.632054e+06    38.000000     0.000000      0.000000   \n",
       "75%    9.482500e+13   5.642626e+06    56.000000     0.000000      0.000000   \n",
       "max    1.000000e+15   5.754683e+06    98.000000     1.000000      1.000000   \n",
       "\n",
       "          Diabetes   Alcoholism      Handcap  SMS_received  \n",
       "count  5000.000000  5000.000000  5000.000000   5000.000000  \n",
       "mean      0.065000     0.028000     0.018000      0.384600  \n",
       "std       0.246551     0.164989     0.147242      0.486549  \n",
       "min       0.000000     0.000000     0.000000      0.000000  \n",
       "25%       0.000000     0.000000     0.000000      0.000000  \n",
       "50%       0.000000     0.000000     0.000000      0.000000  \n",
       "75%       0.000000     0.000000     0.000000      1.000000  \n",
       "max       1.000000     1.000000     3.000000      1.000000  "
      ],
      "text/html": "<div>\n<style scoped>\n    .dataframe tbody tr th:only-of-type {\n        vertical-align: middle;\n    }\n\n    .dataframe tbody tr th {\n        vertical-align: top;\n    }\n\n    .dataframe thead th {\n        text-align: right;\n    }\n</style>\n<table border=\"1\" class=\"dataframe\">\n  <thead>\n    <tr style=\"text-align: right;\">\n      <th></th>\n      <th>PatientId</th>\n      <th>AppointmentID</th>\n      <th>Age</th>\n      <th>Scholarship</th>\n      <th>Hipertension</th>\n      <th>Diabetes</th>\n      <th>Alcoholism</th>\n      <th>Handcap</th>\n      <th>SMS_received</th>\n    </tr>\n  </thead>\n  <tbody>\n    <tr>\n      <th>count</th>\n      <td>5.000000e+03</td>\n      <td>5.000000e+03</td>\n      <td>5000.000000</td>\n      <td>5000.000000</td>\n      <td>5000.000000</td>\n      <td>5000.000000</td>\n      <td>5000.000000</td>\n      <td>5000.000000</td>\n      <td>5000.000000</td>\n    </tr>\n    <tr>\n      <th>mean</th>\n      <td>1.495594e+14</td>\n      <td>5.616103e+06</td>\n      <td>37.300800</td>\n      <td>0.088600</td>\n      <td>0.185400</td>\n      <td>0.065000</td>\n      <td>0.028000</td>\n      <td>0.018000</td>\n      <td>0.384600</td>\n    </tr>\n    <tr>\n      <th>std</th>\n      <td>2.584962e+14</td>\n      <td>6.973119e+04</td>\n      <td>23.146574</td>\n      <td>0.284194</td>\n      <td>0.388661</td>\n      <td>0.246551</td>\n      <td>0.164989</td>\n      <td>0.147242</td>\n      <td>0.486549</td>\n    </tr>\n    <tr>\n      <th>min</th>\n      <td>9.380000e+04</td>\n      <td>5.030230e+06</td>\n      <td>0.000000</td>\n      <td>0.000000</td>\n      <td>0.000000</td>\n      <td>0.000000</td>\n      <td>0.000000</td>\n      <td>0.000000</td>\n      <td>0.000000</td>\n    </tr>\n    <tr>\n      <th>25%</th>\n      <td>4.160000e+12</td>\n      <td>5.580300e+06</td>\n      <td>18.000000</td>\n      <td>0.000000</td>\n      <td>0.000000</td>\n      <td>0.000000</td>\n      <td>0.000000</td>\n      <td>0.000000</td>\n      <td>0.000000</td>\n    </tr>\n    <tr>\n      <th>50%</th>\n      <td>2.880000e+13</td>\n      <td>5.632054e+06</td>\n      <td>38.000000</td>\n      <td>0.000000</td>\n      <td>0.000000</td>\n      <td>0.000000</td>\n      <td>0.000000</td>\n      <td>0.000000</td>\n      <td>0.000000</td>\n    </tr>\n    <tr>\n      <th>75%</th>\n      <td>9.482500e+13</td>\n      <td>5.642626e+06</td>\n      <td>56.000000</td>\n      <td>0.000000</td>\n      <td>0.000000</td>\n      <td>0.000000</td>\n      <td>0.000000</td>\n      <td>0.000000</td>\n      <td>1.000000</td>\n    </tr>\n    <tr>\n      <th>max</th>\n      <td>1.000000e+15</td>\n      <td>5.754683e+06</td>\n      <td>98.000000</td>\n      <td>1.000000</td>\n      <td>1.000000</td>\n      <td>1.000000</td>\n      <td>1.000000</td>\n      <td>3.000000</td>\n      <td>1.000000</td>\n    </tr>\n  </tbody>\n</table>\n</div>"
     },
     "metadata": {},
     "execution_count": 23
    }
   ],
   "source": [
    "df.describe()"
   ]
  },
  {
   "cell_type": "code",
   "execution_count": 37,
   "metadata": {},
   "outputs": [
    {
     "output_type": "execute_result",
     "data": {
      "text/plain": [
       "0       2016-04-29T00:00:00Z\n",
       "2151    2016-04-29T00:00:00Z\n",
       "2152    2016-04-29T00:00:00Z\n",
       "2153    2016-04-29T00:00:00Z\n",
       "2154    2016-04-29T00:00:00Z\n",
       "Name: AppointmentDay, dtype: object"
      ]
     },
     "metadata": {},
     "execution_count": 37
    }
   ],
   "source": [
    "# Checking how much the data covers over the year\n",
    "df.AppointmentDay.sort_values()[:5]"
   ]
  },
  {
   "cell_type": "code",
   "execution_count": 38,
   "metadata": {},
   "outputs": [
    {
     "output_type": "execute_result",
     "data": {
      "text/plain": [
       "4009    2016-05-31T00:00:00Z\n",
       "3561    2016-05-31T00:00:00Z\n",
       "3250    2016-05-31T00:00:00Z\n",
       "3359    2016-05-31T00:00:00Z\n",
       "4005    2016-05-31T00:00:00Z\n",
       "Name: AppointmentDay, dtype: object"
      ]
     },
     "metadata": {},
     "execution_count": 38
    }
   ],
   "source": [
    "df.AppointmentDay.sort_values()[-5:]"
   ]
  },
  {
   "source": [
    "## Dataframe Issues:\n",
    "1. Does age affect on people for showing up for their appointments? \n",
    "2. Which age segment is caring less/more about health?\n",
    "### Machine Learning ini tidak akan menganalisis features (kolom) PatientId, AppointmentID, ScheduledDay, & AppointmentDay. "
   ],
   "cell_type": "markdown",
   "metadata": {}
  },
  {
   "cell_type": "code",
   "execution_count": null,
   "metadata": {},
   "outputs": [],
   "source": [
    "# df.groupby([\"name\"]).apply(lambda x: x.sort_values([\"count_1\"], ascending = False))\n",
    "g = df_agg['count'].groupby('job', group_keys=False)\n",
    "res = g.apply(lambda x: x.sort_values(ascending=False).head(3))\n",
    "\n",
    "new_df = df.groupby(['user_ID','product_id'], sort=True).sum().reset_index()\n",
    "new_df = new_df.sort_values(by = ['user_ID', 'amount'], ascending=[True,False])\n",
    "print(new_df)"
   ]
  },
  {
   "cell_type": "code",
   "execution_count": 14,
   "metadata": {},
   "outputs": [
    {
     "output_type": "error",
     "ename": "TypeError",
     "evalue": "unhashable type: 'list'",
     "traceback": [
      "\u001b[1;31m---------------------------------------------------------------------------\u001b[0m",
      "\u001b[1;31mTypeError\u001b[0m                                 Traceback (most recent call last)",
      "\u001b[1;32m<ipython-input-14-5d4b4fa41c33>\u001b[0m in \u001b[0;36m<module>\u001b[1;34m\u001b[0m\n\u001b[0;32m      2\u001b[0m \u001b[1;31m# df.groupby('Age').sum().sort_values(by='NoShow', ascending=False)\u001b[0m\u001b[1;33m\u001b[0m\u001b[1;33m\u001b[0m\u001b[1;33m\u001b[0m\u001b[0m\n\u001b[0;32m      3\u001b[0m \u001b[0mnew_df\u001b[0m \u001b[1;33m=\u001b[0m \u001b[0mdf\u001b[0m\u001b[1;33m.\u001b[0m\u001b[0mgroupby\u001b[0m\u001b[1;33m(\u001b[0m\u001b[1;33m[\u001b[0m\u001b[1;34m'Age'\u001b[0m\u001b[1;33m]\u001b[0m\u001b[1;33m)\u001b[0m\u001b[1;33m.\u001b[0m\u001b[0msum\u001b[0m\u001b[1;33m(\u001b[0m\u001b[1;33m)\u001b[0m\u001b[1;33m\u001b[0m\u001b[1;33m\u001b[0m\u001b[0m\n\u001b[1;32m----> 4\u001b[1;33m \u001b[0mnew_df\u001b[0m \u001b[1;33m=\u001b[0m \u001b[0mnew_df\u001b[0m\u001b[1;33m.\u001b[0m\u001b[0mapply\u001b[0m\u001b[1;33m(\u001b[0m\u001b[1;32mlambda\u001b[0m \u001b[0mx\u001b[0m\u001b[1;33m:\u001b[0m \u001b[0mx\u001b[0m\u001b[1;33m.\u001b[0m\u001b[0msort_values\u001b[0m\u001b[1;33m(\u001b[0m\u001b[1;33m[\u001b[0m\u001b[1;34m'NoShow'\u001b[0m\u001b[1;33m]\u001b[0m\u001b[1;33m,\u001b[0m \u001b[0mascending\u001b[0m\u001b[1;33m=\u001b[0m\u001b[1;32mFalse\u001b[0m\u001b[1;33m)\u001b[0m\u001b[1;33m)\u001b[0m\u001b[1;33m\u001b[0m\u001b[1;33m\u001b[0m\u001b[0m\n\u001b[0m\u001b[0;32m      5\u001b[0m \u001b[1;33m\u001b[0m\u001b[0m\n",
      "\u001b[1;32m~\\AppData\\Local\\Programs\\Python\\Python39\\lib\\site-packages\\pandas\\core\\frame.py\u001b[0m in \u001b[0;36mapply\u001b[1;34m(self, func, axis, raw, result_type, args, **kwds)\u001b[0m\n\u001b[0;32m   7550\u001b[0m             \u001b[0mkwds\u001b[0m\u001b[1;33m=\u001b[0m\u001b[0mkwds\u001b[0m\u001b[1;33m,\u001b[0m\u001b[1;33m\u001b[0m\u001b[1;33m\u001b[0m\u001b[0m\n\u001b[0;32m   7551\u001b[0m         )\n\u001b[1;32m-> 7552\u001b[1;33m         \u001b[1;32mreturn\u001b[0m \u001b[0mop\u001b[0m\u001b[1;33m.\u001b[0m\u001b[0mget_result\u001b[0m\u001b[1;33m(\u001b[0m\u001b[1;33m)\u001b[0m\u001b[1;33m\u001b[0m\u001b[1;33m\u001b[0m\u001b[0m\n\u001b[0m\u001b[0;32m   7553\u001b[0m \u001b[1;33m\u001b[0m\u001b[0m\n\u001b[0;32m   7554\u001b[0m     \u001b[1;32mdef\u001b[0m \u001b[0mapplymap\u001b[0m\u001b[1;33m(\u001b[0m\u001b[0mself\u001b[0m\u001b[1;33m,\u001b[0m \u001b[0mfunc\u001b[0m\u001b[1;33m)\u001b[0m \u001b[1;33m->\u001b[0m \u001b[1;34m\"DataFrame\"\u001b[0m\u001b[1;33m:\u001b[0m\u001b[1;33m\u001b[0m\u001b[1;33m\u001b[0m\u001b[0m\n",
      "\u001b[1;32m~\\AppData\\Local\\Programs\\Python\\Python39\\lib\\site-packages\\pandas\\core\\apply.py\u001b[0m in \u001b[0;36mget_result\u001b[1;34m(self)\u001b[0m\n\u001b[0;32m    178\u001b[0m             \u001b[1;32mreturn\u001b[0m \u001b[0mself\u001b[0m\u001b[1;33m.\u001b[0m\u001b[0mapply_raw\u001b[0m\u001b[1;33m(\u001b[0m\u001b[1;33m)\u001b[0m\u001b[1;33m\u001b[0m\u001b[1;33m\u001b[0m\u001b[0m\n\u001b[0;32m    179\u001b[0m \u001b[1;33m\u001b[0m\u001b[0m\n\u001b[1;32m--> 180\u001b[1;33m         \u001b[1;32mreturn\u001b[0m \u001b[0mself\u001b[0m\u001b[1;33m.\u001b[0m\u001b[0mapply_standard\u001b[0m\u001b[1;33m(\u001b[0m\u001b[1;33m)\u001b[0m\u001b[1;33m\u001b[0m\u001b[1;33m\u001b[0m\u001b[0m\n\u001b[0m\u001b[0;32m    181\u001b[0m \u001b[1;33m\u001b[0m\u001b[0m\n\u001b[0;32m    182\u001b[0m     \u001b[1;32mdef\u001b[0m \u001b[0mapply_empty_result\u001b[0m\u001b[1;33m(\u001b[0m\u001b[0mself\u001b[0m\u001b[1;33m)\u001b[0m\u001b[1;33m:\u001b[0m\u001b[1;33m\u001b[0m\u001b[1;33m\u001b[0m\u001b[0m\n",
      "\u001b[1;32m~\\AppData\\Local\\Programs\\Python\\Python39\\lib\\site-packages\\pandas\\core\\apply.py\u001b[0m in \u001b[0;36mapply_standard\u001b[1;34m(self)\u001b[0m\n\u001b[0;32m    269\u001b[0m \u001b[1;33m\u001b[0m\u001b[0m\n\u001b[0;32m    270\u001b[0m     \u001b[1;32mdef\u001b[0m \u001b[0mapply_standard\u001b[0m\u001b[1;33m(\u001b[0m\u001b[0mself\u001b[0m\u001b[1;33m)\u001b[0m\u001b[1;33m:\u001b[0m\u001b[1;33m\u001b[0m\u001b[1;33m\u001b[0m\u001b[0m\n\u001b[1;32m--> 271\u001b[1;33m         \u001b[0mresults\u001b[0m\u001b[1;33m,\u001b[0m \u001b[0mres_index\u001b[0m \u001b[1;33m=\u001b[0m \u001b[0mself\u001b[0m\u001b[1;33m.\u001b[0m\u001b[0mapply_series_generator\u001b[0m\u001b[1;33m(\u001b[0m\u001b[1;33m)\u001b[0m\u001b[1;33m\u001b[0m\u001b[1;33m\u001b[0m\u001b[0m\n\u001b[0m\u001b[0;32m    272\u001b[0m \u001b[1;33m\u001b[0m\u001b[0m\n\u001b[0;32m    273\u001b[0m         \u001b[1;31m# wrap results\u001b[0m\u001b[1;33m\u001b[0m\u001b[1;33m\u001b[0m\u001b[1;33m\u001b[0m\u001b[0m\n",
      "\u001b[1;32m~\\AppData\\Local\\Programs\\Python\\Python39\\lib\\site-packages\\pandas\\core\\apply.py\u001b[0m in \u001b[0;36mapply_series_generator\u001b[1;34m(self)\u001b[0m\n\u001b[0;32m    298\u001b[0m                 \u001b[1;32mfor\u001b[0m \u001b[0mi\u001b[0m\u001b[1;33m,\u001b[0m \u001b[0mv\u001b[0m \u001b[1;32min\u001b[0m \u001b[0menumerate\u001b[0m\u001b[1;33m(\u001b[0m\u001b[0mseries_gen\u001b[0m\u001b[1;33m)\u001b[0m\u001b[1;33m:\u001b[0m\u001b[1;33m\u001b[0m\u001b[1;33m\u001b[0m\u001b[0m\n\u001b[0;32m    299\u001b[0m                     \u001b[1;31m# ignore SettingWithCopy here in case the user mutates\u001b[0m\u001b[1;33m\u001b[0m\u001b[1;33m\u001b[0m\u001b[1;33m\u001b[0m\u001b[0m\n\u001b[1;32m--> 300\u001b[1;33m                     \u001b[0mresults\u001b[0m\u001b[1;33m[\u001b[0m\u001b[0mi\u001b[0m\u001b[1;33m]\u001b[0m \u001b[1;33m=\u001b[0m \u001b[0mself\u001b[0m\u001b[1;33m.\u001b[0m\u001b[0mf\u001b[0m\u001b[1;33m(\u001b[0m\u001b[0mv\u001b[0m\u001b[1;33m)\u001b[0m\u001b[1;33m\u001b[0m\u001b[1;33m\u001b[0m\u001b[0m\n\u001b[0m\u001b[0;32m    301\u001b[0m                     \u001b[1;32mif\u001b[0m \u001b[0misinstance\u001b[0m\u001b[1;33m(\u001b[0m\u001b[0mresults\u001b[0m\u001b[1;33m[\u001b[0m\u001b[0mi\u001b[0m\u001b[1;33m]\u001b[0m\u001b[1;33m,\u001b[0m \u001b[0mABCSeries\u001b[0m\u001b[1;33m)\u001b[0m\u001b[1;33m:\u001b[0m\u001b[1;33m\u001b[0m\u001b[1;33m\u001b[0m\u001b[0m\n\u001b[0;32m    302\u001b[0m                         \u001b[1;31m# If we have a view on v, we need to make a copy because\u001b[0m\u001b[1;33m\u001b[0m\u001b[1;33m\u001b[0m\u001b[1;33m\u001b[0m\u001b[0m\n",
      "\u001b[1;32m<ipython-input-14-5d4b4fa41c33>\u001b[0m in \u001b[0;36m<lambda>\u001b[1;34m(x)\u001b[0m\n\u001b[0;32m      2\u001b[0m \u001b[1;31m# df.groupby('Age').sum().sort_values(by='NoShow', ascending=False)\u001b[0m\u001b[1;33m\u001b[0m\u001b[1;33m\u001b[0m\u001b[1;33m\u001b[0m\u001b[0m\n\u001b[0;32m      3\u001b[0m \u001b[0mnew_df\u001b[0m \u001b[1;33m=\u001b[0m \u001b[0mdf\u001b[0m\u001b[1;33m.\u001b[0m\u001b[0mgroupby\u001b[0m\u001b[1;33m(\u001b[0m\u001b[1;33m[\u001b[0m\u001b[1;34m'Age'\u001b[0m\u001b[1;33m]\u001b[0m\u001b[1;33m)\u001b[0m\u001b[1;33m.\u001b[0m\u001b[0msum\u001b[0m\u001b[1;33m(\u001b[0m\u001b[1;33m)\u001b[0m\u001b[1;33m\u001b[0m\u001b[1;33m\u001b[0m\u001b[0m\n\u001b[1;32m----> 4\u001b[1;33m \u001b[0mnew_df\u001b[0m \u001b[1;33m=\u001b[0m \u001b[0mnew_df\u001b[0m\u001b[1;33m.\u001b[0m\u001b[0mapply\u001b[0m\u001b[1;33m(\u001b[0m\u001b[1;32mlambda\u001b[0m \u001b[0mx\u001b[0m\u001b[1;33m:\u001b[0m \u001b[0mx\u001b[0m\u001b[1;33m.\u001b[0m\u001b[0msort_values\u001b[0m\u001b[1;33m(\u001b[0m\u001b[1;33m[\u001b[0m\u001b[1;34m'NoShow'\u001b[0m\u001b[1;33m]\u001b[0m\u001b[1;33m,\u001b[0m \u001b[0mascending\u001b[0m\u001b[1;33m=\u001b[0m\u001b[1;32mFalse\u001b[0m\u001b[1;33m)\u001b[0m\u001b[1;33m)\u001b[0m\u001b[1;33m\u001b[0m\u001b[1;33m\u001b[0m\u001b[0m\n\u001b[0m\u001b[0;32m      5\u001b[0m \u001b[1;33m\u001b[0m\u001b[0m\n",
      "\u001b[1;32m~\\AppData\\Local\\Programs\\Python\\Python39\\lib\\site-packages\\pandas\\core\\series.py\u001b[0m in \u001b[0;36msort_values\u001b[1;34m(self, axis, ascending, inplace, kind, na_position, ignore_index, key)\u001b[0m\n\u001b[0;32m   3241\u001b[0m         \u001b[0minplace\u001b[0m \u001b[1;33m=\u001b[0m \u001b[0mvalidate_bool_kwarg\u001b[0m\u001b[1;33m(\u001b[0m\u001b[0minplace\u001b[0m\u001b[1;33m,\u001b[0m \u001b[1;34m\"inplace\"\u001b[0m\u001b[1;33m)\u001b[0m\u001b[1;33m\u001b[0m\u001b[1;33m\u001b[0m\u001b[0m\n\u001b[0;32m   3242\u001b[0m         \u001b[1;31m# Validate the axis parameter\u001b[0m\u001b[1;33m\u001b[0m\u001b[1;33m\u001b[0m\u001b[1;33m\u001b[0m\u001b[0m\n\u001b[1;32m-> 3243\u001b[1;33m         \u001b[0mself\u001b[0m\u001b[1;33m.\u001b[0m\u001b[0m_get_axis_number\u001b[0m\u001b[1;33m(\u001b[0m\u001b[0maxis\u001b[0m\u001b[1;33m)\u001b[0m\u001b[1;33m\u001b[0m\u001b[1;33m\u001b[0m\u001b[0m\n\u001b[0m\u001b[0;32m   3244\u001b[0m \u001b[1;33m\u001b[0m\u001b[0m\n\u001b[0;32m   3245\u001b[0m         \u001b[1;31m# GH 5856/5853\u001b[0m\u001b[1;33m\u001b[0m\u001b[1;33m\u001b[0m\u001b[1;33m\u001b[0m\u001b[0m\n",
      "\u001b[1;32m~\\AppData\\Local\\Programs\\Python\\Python39\\lib\\site-packages\\pandas\\core\\generic.py\u001b[0m in \u001b[0;36m_get_axis_number\u001b[1;34m(cls, axis)\u001b[0m\n\u001b[0;32m    366\u001b[0m     \u001b[1;32mdef\u001b[0m \u001b[0m_get_axis_number\u001b[0m\u001b[1;33m(\u001b[0m\u001b[0mcls\u001b[0m\u001b[1;33m,\u001b[0m \u001b[0maxis\u001b[0m\u001b[1;33m:\u001b[0m \u001b[0mAxis\u001b[0m\u001b[1;33m)\u001b[0m \u001b[1;33m->\u001b[0m \u001b[0mint\u001b[0m\u001b[1;33m:\u001b[0m\u001b[1;33m\u001b[0m\u001b[1;33m\u001b[0m\u001b[0m\n\u001b[0;32m    367\u001b[0m         \u001b[1;32mtry\u001b[0m\u001b[1;33m:\u001b[0m\u001b[1;33m\u001b[0m\u001b[1;33m\u001b[0m\u001b[0m\n\u001b[1;32m--> 368\u001b[1;33m             \u001b[1;32mreturn\u001b[0m \u001b[0mcls\u001b[0m\u001b[1;33m.\u001b[0m\u001b[0m_AXIS_TO_AXIS_NUMBER\u001b[0m\u001b[1;33m[\u001b[0m\u001b[0maxis\u001b[0m\u001b[1;33m]\u001b[0m\u001b[1;33m\u001b[0m\u001b[1;33m\u001b[0m\u001b[0m\n\u001b[0m\u001b[0;32m    369\u001b[0m         \u001b[1;32mexcept\u001b[0m \u001b[0mKeyError\u001b[0m\u001b[1;33m:\u001b[0m\u001b[1;33m\u001b[0m\u001b[1;33m\u001b[0m\u001b[0m\n\u001b[0;32m    370\u001b[0m             \u001b[1;32mraise\u001b[0m \u001b[0mValueError\u001b[0m\u001b[1;33m(\u001b[0m\u001b[1;34mf\"No axis named {axis} for object type {cls.__name__}\"\u001b[0m\u001b[1;33m)\u001b[0m\u001b[1;33m\u001b[0m\u001b[1;33m\u001b[0m\u001b[0m\n",
      "\u001b[1;31mTypeError\u001b[0m: unhashable type: 'list'"
     ]
    }
   ],
   "source": [
    "# Number of patients showing ups for each age\n",
    "# df.groupby('Age').sum().sort_values(by='NoShow', ascending=False)\n",
    "new_df = df.groupby(['Age']).sum()\n",
    "new_df = new_df.apply(lambda x: x.sort_values(['NoShow'], ascending=False))\n",
    "\n"
   ]
  },
  {
   "cell_type": "code",
   "execution_count": 17,
   "metadata": {},
   "outputs": [
    {
     "output_type": "execute_result",
     "data": {
      "text/plain": [
       "        PatientId  AppointmentID  Scholarship  Hipertension  Diabetes  \\\n",
       "Age                                                                     \n",
       "0    2.485277e+16      994393397            1             0         0   \n",
       "1    1.779054e+16      621734595            3             0         0   \n",
       "2    1.636405e+16      505489297            5             0         0   \n",
       "3    5.830601e+15      409172345            5             0         0   \n",
       "4    7.790484e+15      279836745            3             0         0   \n",
       "..            ...            ...          ...           ...       ...   \n",
       "90   1.822776e+14       16989251            0             1         0   \n",
       "91   4.269324e+13       16830664            0             1         1   \n",
       "92   1.696000e+14       11379786            0             2         0   \n",
       "94   1.120000e+14       11204057            0             2         1   \n",
       "98   2.115000e+14       11108294            0             2         0   \n",
       "\n",
       "     Alcoholism  Handcap  SMS_received  \n",
       "Age                                     \n",
       "0             0        0            72  \n",
       "1             0        0            39  \n",
       "2             0        0            31  \n",
       "3             0        0            30  \n",
       "4             0        0            20  \n",
       "..          ...      ...           ...  \n",
       "90            0        0             0  \n",
       "91            0        0             0  \n",
       "92            0        0             0  \n",
       "94            0        2             2  \n",
       "98            0        0             1  \n",
       "\n",
       "[95 rows x 8 columns]"
      ],
      "text/html": "<div>\n<style scoped>\n    .dataframe tbody tr th:only-of-type {\n        vertical-align: middle;\n    }\n\n    .dataframe tbody tr th {\n        vertical-align: top;\n    }\n\n    .dataframe thead th {\n        text-align: right;\n    }\n</style>\n<table border=\"1\" class=\"dataframe\">\n  <thead>\n    <tr style=\"text-align: right;\">\n      <th></th>\n      <th>PatientId</th>\n      <th>AppointmentID</th>\n      <th>Scholarship</th>\n      <th>Hipertension</th>\n      <th>Diabetes</th>\n      <th>Alcoholism</th>\n      <th>Handcap</th>\n      <th>SMS_received</th>\n    </tr>\n    <tr>\n      <th>Age</th>\n      <th></th>\n      <th></th>\n      <th></th>\n      <th></th>\n      <th></th>\n      <th></th>\n      <th></th>\n      <th></th>\n    </tr>\n  </thead>\n  <tbody>\n    <tr>\n      <th>0</th>\n      <td>2.485277e+16</td>\n      <td>994393397</td>\n      <td>1</td>\n      <td>0</td>\n      <td>0</td>\n      <td>0</td>\n      <td>0</td>\n      <td>72</td>\n    </tr>\n    <tr>\n      <th>1</th>\n      <td>1.779054e+16</td>\n      <td>621734595</td>\n      <td>3</td>\n      <td>0</td>\n      <td>0</td>\n      <td>0</td>\n      <td>0</td>\n      <td>39</td>\n    </tr>\n    <tr>\n      <th>2</th>\n      <td>1.636405e+16</td>\n      <td>505489297</td>\n      <td>5</td>\n      <td>0</td>\n      <td>0</td>\n      <td>0</td>\n      <td>0</td>\n      <td>31</td>\n    </tr>\n    <tr>\n      <th>3</th>\n      <td>5.830601e+15</td>\n      <td>409172345</td>\n      <td>5</td>\n      <td>0</td>\n      <td>0</td>\n      <td>0</td>\n      <td>0</td>\n      <td>30</td>\n    </tr>\n    <tr>\n      <th>4</th>\n      <td>7.790484e+15</td>\n      <td>279836745</td>\n      <td>3</td>\n      <td>0</td>\n      <td>0</td>\n      <td>0</td>\n      <td>0</td>\n      <td>20</td>\n    </tr>\n    <tr>\n      <th>...</th>\n      <td>...</td>\n      <td>...</td>\n      <td>...</td>\n      <td>...</td>\n      <td>...</td>\n      <td>...</td>\n      <td>...</td>\n      <td>...</td>\n    </tr>\n    <tr>\n      <th>90</th>\n      <td>1.822776e+14</td>\n      <td>16989251</td>\n      <td>0</td>\n      <td>1</td>\n      <td>0</td>\n      <td>0</td>\n      <td>0</td>\n      <td>0</td>\n    </tr>\n    <tr>\n      <th>91</th>\n      <td>4.269324e+13</td>\n      <td>16830664</td>\n      <td>0</td>\n      <td>1</td>\n      <td>1</td>\n      <td>0</td>\n      <td>0</td>\n      <td>0</td>\n    </tr>\n    <tr>\n      <th>92</th>\n      <td>1.696000e+14</td>\n      <td>11379786</td>\n      <td>0</td>\n      <td>2</td>\n      <td>0</td>\n      <td>0</td>\n      <td>0</td>\n      <td>0</td>\n    </tr>\n    <tr>\n      <th>94</th>\n      <td>1.120000e+14</td>\n      <td>11204057</td>\n      <td>0</td>\n      <td>2</td>\n      <td>1</td>\n      <td>0</td>\n      <td>2</td>\n      <td>2</td>\n    </tr>\n    <tr>\n      <th>98</th>\n      <td>2.115000e+14</td>\n      <td>11108294</td>\n      <td>0</td>\n      <td>2</td>\n      <td>0</td>\n      <td>0</td>\n      <td>0</td>\n      <td>1</td>\n    </tr>\n  </tbody>\n</table>\n<p>95 rows × 8 columns</p>\n</div>"
     },
     "metadata": {},
     "execution_count": 17
    }
   ],
   "source": [
    "# Number of patients showing ups for each age\n",
    "# df.groupby('Age').sum().sort_values(by='NoShow', ascending=False)\n",
    "# df.groupby(['Age']).sum().apply(lambda x: x.sort_values(['NoShow'], ascending=False))\n",
    "df.groupby('Age').sum()\n",
    "\n",
    "# Number of showing ups for each age\n",
    "# df_clean.groupby('Age').sum().Show.sort_values(ascending=False)"
   ]
  },
  {
   "cell_type": "code",
   "execution_count": 16,
   "metadata": {},
   "outputs": [
    {
     "output_type": "execute_result",
     "data": {
      "text/plain": [
       "0       No\n",
       "1       No\n",
       "2       No\n",
       "3       No\n",
       "4       No\n",
       "        ..\n",
       "4995    No\n",
       "4996    No\n",
       "4997    No\n",
       "4998    No\n",
       "4999    No\n",
       "Name: NoShow, Length: 5000, dtype: object"
      ]
     },
     "metadata": {},
     "execution_count": 16
    }
   ],
   "source": [
    "df['NoShow']"
   ]
  },
  {
   "cell_type": "code",
   "execution_count": 15,
   "metadata": {},
   "outputs": [
    {
     "output_type": "execute_result",
     "data": {
      "text/plain": [
       "No     3941\n",
       "Yes    1059\n",
       "Name: NoShow, dtype: int64"
      ]
     },
     "metadata": {},
     "execution_count": 15
    }
   ],
   "source": [
    "df['NoShow'].value_counts()"
   ]
  },
  {
   "cell_type": "code",
   "execution_count": 51,
   "metadata": {},
   "outputs": [],
   "source": [
    "def replacing(df):\n",
    "    \"\"\"\n",
    "    Segment each age into an age segment started from 5 to 85 years\n",
    "    and divided by 10 years.\n",
    "    First segment is from 0 to 5 years.\n",
    "    Last segment is from 85 to the max years old person.\n",
    "    Each segment in between is within 10 years range.\n",
    "    \n",
    "    returns: df, a dataframe contains the age segments.\n",
    "    \"\"\"\n",
    "    lower = 5\n",
    "    upper = 15\n",
    "    lower_2 = lower\n",
    "    upper_2 = upper\n",
    "    \n",
    "    # Segment the age into multiple segments using integers first then replace \n",
    "    # the integers with their corresponding string segment.\n",
    "    df.loc[df.Age <= 5, ['Age']] = 5\n",
    "    while(1):\n",
    "        df.loc[(lower < df.Age) & (df.Age <= upper), ['Age']] = upper\n",
    "        lower += 10\n",
    "        upper += 10\n",
    "        if upper > 85:\n",
    "            break\n",
    "    df.loc[df.Age > 85, ['Age']] = int(df_clean.Age.max())\n",
    "    \n",
    "    \n",
    "    # Creating a copy from the cleaned dataset to segment the age.\n",
    "    df.loc[df.Age == 5, ['Age']] = '0 - 5'\n",
    "    while(1):\n",
    "        df.loc[df.Age == upper_2, ['Age']] = '{} - {}'.format(lower_2+1, upper_2)\n",
    "        upper_2 += 10\n",
    "        lower_2 += 10\n",
    "        if upper_2 > 85:\n",
    "            break\n",
    "    df.loc[df.Age == int(df_clean.Age.max()), ['Age']] = '86 - {}'.format(df_clean.Age.max()) \n",
    "    \n",
    "    return df"
   ]
  },
  {
   "cell_type": "code",
   "execution_count": null,
   "metadata": {},
   "outputs": [],
   "source": [
    "# Creating a copy from the cleaned dataset to segment the age.\n",
    "df_clean_segments = df_clean.copy()\n",
    "\n",
    "df_clean_segments = replacing(df_clean_segments)"
   ]
  },
  {
   "cell_type": "code",
   "execution_count": null,
   "metadata": {},
   "outputs": [],
   "source": [
    "df_clean_segments.groupby('Age').count()"
   ]
  },
  {
   "cell_type": "code",
   "execution_count": null,
   "metadata": {},
   "outputs": [],
   "source": [
    "# Creating pandas series that contains the number of showing up(sum of 1s) for each age segment.\n",
    "age_segments = df_clean_segments.groupby('Age').sum().Show.sort_values(ascending=False)\n",
    "\n",
    "locations = np.arange(len(age_segments))\n",
    "heights = list(age_segments)\n",
    "labels = age_segments.index\n",
    "\n",
    "f = plt.figure(figsize=(10, 7))\n",
    "\n",
    "ax1 = f.add_subplot(1, 1, 1)\n",
    "ax1.bar(locations, heights, tick_label=labels, color='k')\n",
    "ax1.set_title(\"Number of Showing Up Times per Age Segments\")\n",
    "ax1.set_xlabel(\"Age Segments\")\n",
    "ax1.set_ylabel(\"Number of Showing Up Times\")"
   ]
  },
  {
   "cell_type": "code",
   "execution_count": null,
   "metadata": {},
   "outputs": [],
   "source": [
    "# Creating a copy from the cleaned dataset to segment the age.\n",
    "df_clean_segments = df_clean.copy()\n",
    "\n",
    "# Creating a function for ease of age segmentation in next sections.\n",
    "def segmenting(df_clean_segments):\n",
    "    # Segment the age into multiple segments using integers first then replace the integers with their corresponding segment.\n",
    "    df_clean_segments.loc[df_clean_segments.Age <= 5, ['Age']] = 5 # '0-5'\n",
    "    df_clean_segments.loc[(5 < df_clean_segments.Age) & (df_clean_segments.Age <= 15), ['Age']] = 15 #'6-15'\n",
    "    df_clean_segments.loc[(15 < df_clean_segments.Age) & (df_clean_segments.Age <= 25), ['Age']] = 25 #'16-25'\n",
    "    df_clean_segments.loc[(25 < df_clean_segments.Age) & (df_clean_segments.Age <= 40), ['Age']] = 40 #'26-40'\n",
    "    df_clean_segments.loc[(40 < df_clean_segments.Age) & (df_clean_segments.Age <= 60), ['Age']] = 60 #'41-60'\n",
    "    df_clean_segments.loc[(60 < df_clean_segments.Age) & (df_clean_segments.Age <= 80), ['Age']] = 80 #'61-80'\n",
    "    df_clean_segments.loc[df_clean_segments.Age > 80, ['Age']] = int(df_clean.Age.max()) #'81-{}'.format(df_clean.Age.max())\n",
    "\n",
    "    # Replace the integers with their corresponding segment.\n",
    "    df_clean_segments.loc[df_clean_segments.Age == 5, ['Age']] = '0 - 5'\n",
    "    df_clean_segments.loc[df_clean_segments.Age == 15, ['Age']] = '16 - 25'\n",
    "    df_clean_segments.loc[df_clean_segments.Age == 25, ['Age']] = '6 - 15'\n",
    "    df_clean_segments.loc[df_clean_segments.Age == 40, ['Age']] = '26 - 40'\n",
    "    df_clean_segments.loc[df_clean_segments.Age == 60, ['Age']] = '41 - 60'\n",
    "    df_clean_segments.loc[df_clean_segments.Age == 80, ['Age']] = '61 - 80'\n",
    "    df_clean_segments.loc[df_clean_segments.Age == int(df_clean.Age.max()), ['Age']] = '81 - {}'.format(df_clean.Age.max())\n",
    "\n",
    "segmenting(df_clean_segments)"
   ]
  },
  {
   "cell_type": "code",
   "execution_count": null,
   "metadata": {},
   "outputs": [],
   "source": [
    "# Creating pandas series that contains the number of showing up(sum of 1s) for each age segment.\n",
    "age_segments = df_clean_segments.groupby('Age').sum().Show.sort_values(ascending=False)\n",
    "\n",
    "locations = np.arange(len(age_segments))\n",
    "heights = list(age_segments)\n",
    "labels = age_segments.index\n",
    "\n",
    "f = plt.figure(figsize=(10, 7))\n",
    "\n",
    "ax1 = f.add_subplot(1, 1, 1)\n",
    "ax1.bar(locations, heights, tick_label=labels, color='k')\n",
    "ax1.set_title(\"Number of Showing Up Times per Age Segments\")\n",
    "ax1.set_xlabel(\"Age Segments\")\n",
    "ax1.set_ylabel(\"Number of Showing Up Times\")"
   ]
  },
  {
   "cell_type": "code",
   "execution_count": null,
   "metadata": {},
   "outputs": [],
   "source": []
  },
  {
   "cell_type": "code",
   "execution_count": null,
   "metadata": {},
   "outputs": [],
   "source": [
    "# Mengubah bentuk dataframe kedalam dummy variable untuk plot distribusi\n",
    "# Hot encoding the gender column > Which means we should drop the rest columns for avoiding misconvinention,\n",
    "# and focusing only on the columns that we're going to use.\n",
    "one_hot_df_clean = pd.get_dummies(df_clean.drop(columns=['Neighbourhood', 'Scholarship', 'Hipertension',\n",
    "                                                         'Diabetes', 'Alcoholism', 'Handcap', 'SMS_received']))\n",
    "one_hot_df_clean.head(5)"
   ]
  },
  {
   "cell_type": "code",
   "execution_count": null,
   "metadata": {},
   "outputs": [],
   "source": [
    "# Creating a copy from the one hot encoded data to segment the age.\n",
    "df_clean_segments = one_hot_df_clean.copy()\n",
    "\n",
    "# Segment the age into multiple segments using the previous function\n",
    "segmenting(df_clean_segments)\n",
    "\n",
    "df_clean_segments[df_clean_segments.Show == 1].groupby('Age').sum()"
   ]
  },
  {
   "cell_type": "code",
   "execution_count": null,
   "metadata": {},
   "outputs": [],
   "source": [
    "one_hot_df_clean_segments = df_clean_segments[df_clean_segments.Show == 1].groupby('Age').sum()\n",
    "\n",
    "one_hot_df_clean_segments.drop(columns='Show').plot(figsize=(10,7))"
   ]
  },
  {
   "source": [
    "### Which gender is commited more to their appointment, Male or Female?"
   ],
   "cell_type": "markdown",
   "metadata": {}
  },
  {
   "cell_type": "code",
   "execution_count": null,
   "metadata": {},
   "outputs": [],
   "source": [
    "# Hot encoding the Show column > Which means we should drop the rest columns for avoiding misconvinention,\n",
    "# and focusing only on the columns that we're going to use.\n",
    "show_encoded = pd.get_dummies(df_clean.drop(columns=['Age', 'Neighbourhood', 'Scholarship', 'Hipertension',\n",
    "                                                     'Diabetes', 'Alcoholism', 'Handcap', 'SMS_received']), \n",
    "                              columns=['Show'])"
   ]
  },
  {
   "cell_type": "code",
   "execution_count": null,
   "metadata": {},
   "outputs": [],
   "source": [
    "# show_encoded\n",
    "show_encoded.groupby('Gender').sum()"
   ]
  },
  {
   "cell_type": "code",
   "execution_count": null,
   "metadata": {},
   "outputs": [],
   "source": [
    "## UNTUK MELIHAT PASIEN YANG HADIR DAN TIDAK DATANG SETELAH APPOINMENT\n",
    "show_encoded.groupby('Gender').sum().T"
   ]
  },
  {
   "cell_type": "code",
   "execution_count": null,
   "metadata": {},
   "outputs": [],
   "source": [
    "# Creating 2 pandas series for each Male and Female, and sorting the values as well.\n",
    "show_percent_f = show_encoded.groupby('Gender').sum().T['F'].sort_values(ascending=False)\n",
    "show_percent_m = show_encoded.groupby('Gender').sum().T['M'].sort_values(ascending=False)\n",
    "\n",
    "sizes_f = list(show_percent_f)\n",
    "sizes_m = list(show_percent_m)\n",
    "\n",
    "# Changing the labels of the chart\n",
    "labels = ['Shown', \"Didn't Shown\"]\n",
    "colors = ['lightskyblue', 'lightcoral']\n",
    "explode = (0.1, 0)  # explode 1st slice\n",
    "\n",
    "f = plt.figure(figsize=(15, 7))\n",
    "\n",
    "ax1 = f.add_subplot(1, 2, 1)\n",
    "ax2 = f.add_subplot(1, 2, 2)\n",
    "\n",
    "ax1.pie(sizes_f, labels=labels, colors=colors, explode=explode,\n",
    "        autopct='%1.1f%%', shadow=True, startangle=140)\n",
    "ax1.set_title(\"Percent of Females who shown & didn't show for appointments\");\n",
    "ax1.set_ylabel(\"Female Percentage\")\n",
    "\n",
    "\n",
    "ax2.pie(sizes_m, labels=labels, colors=colors, explode=explode,\n",
    "        autopct='%1.1f%%', shadow=True, startangle=140)\n",
    "ax2.set_title(\"Percent of Males who shown & didn't show for appointments\")\n",
    "ax2.set_ylabel(\"Male Percentage\")"
   ]
  },
  {
   "cell_type": "code",
   "execution_count": null,
   "metadata": {},
   "outputs": [],
   "source": []
  },
  {
   "cell_type": "code",
   "execution_count": 91,
   "metadata": {},
   "outputs": [],
   "source": [
    "show_df_clean = df1.copy()\n",
    "show_df_clean.loc[show_df_clean.NoShow == 1, ['NoShow']] = 'Shown'\n",
    "show_df_clean.loc[show_df_clean.NoShow == 0, ['NoShow']] = \"Didn't Shown\""
   ]
  },
  {
   "cell_type": "code",
   "execution_count": 92,
   "metadata": {},
   "outputs": [
    {
     "output_type": "execute_result",
     "data": {
      "text/plain": [
       "NoShow\n",
       "Shown           3941\n",
       "Didn't Shown    1059\n",
       "Name: NoShow, dtype: int64"
      ]
     },
     "metadata": {},
     "execution_count": 92
    }
   ],
   "source": [
    "show_df_clean.groupby('NoShow')['NoShow'].count().sort_values(ascending=False)"
   ]
  },
  {
   "cell_type": "code",
   "execution_count": 93,
   "metadata": {},
   "outputs": [
    {
     "output_type": "execute_result",
     "data": {
      "text/plain": [
       "Text(0.5, 1.0, \"Percentage of the People who shown and didn't show for their appointments\")"
      ]
     },
     "metadata": {},
     "execution_count": 93
    },
    {
     "output_type": "display_data",
     "data": {
      "text/plain": "<Figure size 720x504 with 1 Axes>",
      "image/svg+xml": "<?xml version=\"1.0\" encoding=\"utf-8\" standalone=\"no\"?>\r\n<!DOCTYPE svg PUBLIC \"-//W3C//DTD SVG 1.1//EN\"\r\n  \"http://www.w3.org/Graphics/SVG/1.1/DTD/svg11.dtd\">\r\n<!-- Created with matplotlib (https://matplotlib.org/) -->\r\n<svg height=\"410.038125pt\" version=\"1.1\" viewBox=\"0 0 473.7825 410.038125\" width=\"473.7825pt\" xmlns=\"http://www.w3.org/2000/svg\" xmlns:xlink=\"http://www.w3.org/1999/xlink\">\r\n <metadata>\r\n  <rdf:RDF xmlns:cc=\"http://creativecommons.org/ns#\" xmlns:dc=\"http://purl.org/dc/elements/1.1/\" xmlns:rdf=\"http://www.w3.org/1999/02/22-rdf-syntax-ns#\">\r\n   <cc:Work>\r\n    <dc:type rdf:resource=\"http://purl.org/dc/dcmitype/StillImage\"/>\r\n    <dc:date>2021-02-23T13:15:11.069561</dc:date>\r\n    <dc:format>image/svg+xml</dc:format>\r\n    <dc:creator>\r\n     <cc:Agent>\r\n      <dc:title>Matplotlib v3.3.3, https://matplotlib.org/</dc:title>\r\n     </cc:Agent>\r\n    </dc:creator>\r\n   </cc:Work>\r\n  </rdf:RDF>\r\n </metadata>\r\n <defs>\r\n  <style type=\"text/css\">*{stroke-linecap:butt;stroke-linejoin:round;}</style>\r\n </defs>\r\n <g id=\"figure_1\">\r\n  <g id=\"patch_1\">\r\n   <path d=\"M 0 410.038125 \r\nL 473.7825 410.038125 \r\nL 473.7825 0 \r\nL 0 0 \r\nz\r\n\" style=\"fill:none;\"/>\r\n  </g>\r\n  <g id=\"axes_1\">\r\n   <g id=\"patch_2\">\r\n    <path d=\"M 120.381352 132.679871 \r\nC 110.266858 144.733856 102.082484 158.283731 96.120372 172.845832 \r\nC 90.15826 187.407933 86.490204 202.806908 85.247134 218.493091 \r\nC 84.004065 234.179274 85.200952 249.963778 88.795071 265.283173 \r\nC 92.389191 280.602568 98.337264 295.272384 106.426974 308.768982 \r\nC 114.516684 322.265579 124.650618 334.426438 136.467044 344.817474 \r\nC 148.28347 355.20851 161.640099 363.704599 176.060167 370.002473 \r\nC 190.480234 376.300347 205.790098 380.324168 221.443273 381.930308 \r\nC 237.096448 383.536447 252.904443 382.705563 268.302992 379.467315 \r\nC 283.701541 376.229067 298.505219 370.622448 312.18561 362.847586 \r\nC 325.866001 355.072725 338.258369 345.223243 348.920369 333.650719 \r\nC 359.582369 322.078195 368.385613 308.92198 375.015868 294.651687 \r\nC 381.646123 280.381393 386.02355 265.168859 387.991898 249.557095 \r\nC 389.960245 233.945331 389.49581 218.12233 386.615172 202.652893 \r\nC 383.734533 187.183456 378.472377 172.253861 371.016538 158.397021 \r\nC 363.560699 144.540181 354.000956 131.922954 342.678546 120.995713 \r\nC 331.356136 110.068473 318.407398 100.9628 304.294539 94.003723 \r\nL 236.979445 230.517288 \r\nL 120.381352 132.679871 \r\nz\r\n\" style=\"fill:#283e4b;opacity:0.5;stroke:#283e4b;stroke-linejoin:miter;\"/>\r\n   </g>\r\n   <g id=\"patch_3\">\r\n    <path d=\"M 301.162184 79.10872 \r\nC 270.60754 64.042168 235.861725 59.66138 202.523536 66.672259 \r\nC 169.185347 73.683138 139.147084 91.68774 117.248988 117.784879 \r\nL 233.84709 215.622285 \r\nL 301.162184 79.10872 \r\nz\r\n\" style=\"fill:#482626;opacity:0.5;stroke:#482626;stroke-linejoin:miter;\"/>\r\n   </g>\r\n   <g id=\"patch_4\">\r\n    <path d=\"M 123.425512 129.635711 \r\nC 113.311018 141.689696 105.126644 155.239571 99.164532 169.801672 \r\nC 93.20242 184.363773 89.534364 199.762748 88.291294 215.448931 \r\nC 87.048225 231.135114 88.245112 246.919618 91.839231 262.239013 \r\nC 95.433351 277.558408 101.381424 292.228224 109.471134 305.724822 \r\nC 117.560844 319.221419 127.694778 331.382278 139.511204 341.773314 \r\nC 151.32763 352.16435 164.684259 360.660439 179.104327 366.958313 \r\nC 193.524394 373.256187 208.834258 377.280008 224.487433 378.886148 \r\nC 240.140608 380.492287 255.948603 379.661403 271.347152 376.423155 \r\nC 286.745701 373.184907 301.549379 367.578288 315.22977 359.803426 \r\nC 328.910161 352.028565 341.302529 342.179083 351.964529 330.606559 \r\nC 362.626529 319.034035 371.429773 305.87782 378.060028 291.607527 \r\nC 384.690283 277.337233 389.06771 262.124699 391.036058 246.512935 \r\nC 393.004405 230.901171 392.53997 215.07817 389.659332 199.608733 \r\nC 386.778693 184.139296 381.516537 169.209701 374.060698 155.352861 \r\nC 366.604859 141.496021 357.045116 128.878794 345.722706 117.951553 \r\nC 334.400296 107.024313 321.451558 97.91864 307.338699 90.959563 \r\nL 240.023605 227.473128 \r\nL 123.425512 129.635711 \r\nz\r\n\" style=\"fill:#87cefa;\"/>\r\n   </g>\r\n   <g id=\"patch_5\">\r\n    <path d=\"M 304.206344 76.06456 \r\nC 273.6517 60.998008 238.905885 56.61722 205.567696 63.628099 \r\nC 172.229507 70.638978 142.191244 88.64358 120.293148 114.740719 \r\nL 236.89125 212.578125 \r\nL 304.206344 76.06456 \r\nz\r\n\" style=\"fill:#f08080;\"/>\r\n   </g>\r\n   <g id=\"matplotlib.axis_1\"/>\r\n   <g id=\"matplotlib.axis_2\"/>\r\n   <g id=\"text_1\">\r\n    <!-- Shown -->\r\n    <g transform=\"translate(274.479507 394.077533)scale(0.1 -0.1)\">\r\n     <defs>\r\n      <path d=\"M 53.515625 70.515625 \r\nL 53.515625 60.890625 \r\nQ 47.90625 63.578125 42.921875 64.890625 \r\nQ 37.9375 66.21875 33.296875 66.21875 \r\nQ 25.25 66.21875 20.875 63.09375 \r\nQ 16.5 59.96875 16.5 54.203125 \r\nQ 16.5 49.359375 19.40625 46.890625 \r\nQ 22.3125 44.4375 30.421875 42.921875 \r\nL 36.375 41.703125 \r\nQ 47.40625 39.59375 52.65625 34.296875 \r\nQ 57.90625 29 57.90625 20.125 \r\nQ 57.90625 9.515625 50.796875 4.046875 \r\nQ 43.703125 -1.421875 29.984375 -1.421875 \r\nQ 24.8125 -1.421875 18.96875 -0.25 \r\nQ 13.140625 0.921875 6.890625 3.21875 \r\nL 6.890625 13.375 \r\nQ 12.890625 10.015625 18.65625 8.296875 \r\nQ 24.421875 6.59375 29.984375 6.59375 \r\nQ 38.421875 6.59375 43.015625 9.90625 \r\nQ 47.609375 13.234375 47.609375 19.390625 \r\nQ 47.609375 24.75 44.3125 27.78125 \r\nQ 41.015625 30.8125 33.5 32.328125 \r\nL 27.484375 33.5 \r\nQ 16.453125 35.6875 11.515625 40.375 \r\nQ 6.59375 45.0625 6.59375 53.421875 \r\nQ 6.59375 63.09375 13.40625 68.65625 \r\nQ 20.21875 74.21875 32.171875 74.21875 \r\nQ 37.3125 74.21875 42.625 73.28125 \r\nQ 47.953125 72.359375 53.515625 70.515625 \r\nz\r\n\" id=\"DejaVuSans-83\"/>\r\n      <path d=\"M 54.890625 33.015625 \r\nL 54.890625 0 \r\nL 45.90625 0 \r\nL 45.90625 32.71875 \r\nQ 45.90625 40.484375 42.875 44.328125 \r\nQ 39.84375 48.1875 33.796875 48.1875 \r\nQ 26.515625 48.1875 22.3125 43.546875 \r\nQ 18.109375 38.921875 18.109375 30.90625 \r\nL 18.109375 0 \r\nL 9.078125 0 \r\nL 9.078125 75.984375 \r\nL 18.109375 75.984375 \r\nL 18.109375 46.1875 \r\nQ 21.34375 51.125 25.703125 53.5625 \r\nQ 30.078125 56 35.796875 56 \r\nQ 45.21875 56 50.046875 50.171875 \r\nQ 54.890625 44.34375 54.890625 33.015625 \r\nz\r\n\" id=\"DejaVuSans-104\"/>\r\n      <path d=\"M 30.609375 48.390625 \r\nQ 23.390625 48.390625 19.1875 42.75 \r\nQ 14.984375 37.109375 14.984375 27.296875 \r\nQ 14.984375 17.484375 19.15625 11.84375 \r\nQ 23.34375 6.203125 30.609375 6.203125 \r\nQ 37.796875 6.203125 41.984375 11.859375 \r\nQ 46.1875 17.53125 46.1875 27.296875 \r\nQ 46.1875 37.015625 41.984375 42.703125 \r\nQ 37.796875 48.390625 30.609375 48.390625 \r\nz\r\nM 30.609375 56 \r\nQ 42.328125 56 49.015625 48.375 \r\nQ 55.71875 40.765625 55.71875 27.296875 \r\nQ 55.71875 13.875 49.015625 6.21875 \r\nQ 42.328125 -1.421875 30.609375 -1.421875 \r\nQ 18.84375 -1.421875 12.171875 6.21875 \r\nQ 5.515625 13.875 5.515625 27.296875 \r\nQ 5.515625 40.765625 12.171875 48.375 \r\nQ 18.84375 56 30.609375 56 \r\nz\r\n\" id=\"DejaVuSans-111\"/>\r\n      <path d=\"M 4.203125 54.6875 \r\nL 13.1875 54.6875 \r\nL 24.421875 12.015625 \r\nL 35.59375 54.6875 \r\nL 46.1875 54.6875 \r\nL 57.421875 12.015625 \r\nL 68.609375 54.6875 \r\nL 77.59375 54.6875 \r\nL 63.28125 0 \r\nL 52.6875 0 \r\nL 40.921875 44.828125 \r\nL 29.109375 0 \r\nL 18.5 0 \r\nz\r\n\" id=\"DejaVuSans-119\"/>\r\n      <path d=\"M 54.890625 33.015625 \r\nL 54.890625 0 \r\nL 45.90625 0 \r\nL 45.90625 32.71875 \r\nQ 45.90625 40.484375 42.875 44.328125 \r\nQ 39.84375 48.1875 33.796875 48.1875 \r\nQ 26.515625 48.1875 22.3125 43.546875 \r\nQ 18.109375 38.921875 18.109375 30.90625 \r\nL 18.109375 0 \r\nL 9.078125 0 \r\nL 9.078125 54.6875 \r\nL 18.109375 54.6875 \r\nL 18.109375 46.1875 \r\nQ 21.34375 51.125 25.703125 53.5625 \r\nQ 30.078125 56 35.796875 56 \r\nQ 45.21875 56 50.046875 50.171875 \r\nQ 54.890625 44.34375 54.890625 33.015625 \r\nz\r\n\" id=\"DejaVuSans-110\"/>\r\n     </defs>\r\n     <use xlink:href=\"#DejaVuSans-83\"/>\r\n     <use x=\"63.476562\" xlink:href=\"#DejaVuSans-104\"/>\r\n     <use x=\"126.855469\" xlink:href=\"#DejaVuSans-111\"/>\r\n     <use x=\"188.037109\" xlink:href=\"#DejaVuSans-119\"/>\r\n     <use x=\"269.824219\" xlink:href=\"#DejaVuSans-110\"/>\r\n    </g>\r\n   </g>\r\n   <g id=\"text_2\">\r\n    <!-- 78.8% -->\r\n    <g transform=\"translate(242.934139 319.602519)scale(0.1 -0.1)\">\r\n     <defs>\r\n      <path d=\"M 8.203125 72.90625 \r\nL 55.078125 72.90625 \r\nL 55.078125 68.703125 \r\nL 28.609375 0 \r\nL 18.3125 0 \r\nL 43.21875 64.59375 \r\nL 8.203125 64.59375 \r\nz\r\n\" id=\"DejaVuSans-55\"/>\r\n      <path d=\"M 31.78125 34.625 \r\nQ 24.75 34.625 20.71875 30.859375 \r\nQ 16.703125 27.09375 16.703125 20.515625 \r\nQ 16.703125 13.921875 20.71875 10.15625 \r\nQ 24.75 6.390625 31.78125 6.390625 \r\nQ 38.8125 6.390625 42.859375 10.171875 \r\nQ 46.921875 13.96875 46.921875 20.515625 \r\nQ 46.921875 27.09375 42.890625 30.859375 \r\nQ 38.875 34.625 31.78125 34.625 \r\nz\r\nM 21.921875 38.8125 \r\nQ 15.578125 40.375 12.03125 44.71875 \r\nQ 8.5 49.078125 8.5 55.328125 \r\nQ 8.5 64.0625 14.71875 69.140625 \r\nQ 20.953125 74.21875 31.78125 74.21875 \r\nQ 42.671875 74.21875 48.875 69.140625 \r\nQ 55.078125 64.0625 55.078125 55.328125 \r\nQ 55.078125 49.078125 51.53125 44.71875 \r\nQ 48 40.375 41.703125 38.8125 \r\nQ 48.828125 37.15625 52.796875 32.3125 \r\nQ 56.78125 27.484375 56.78125 20.515625 \r\nQ 56.78125 9.90625 50.3125 4.234375 \r\nQ 43.84375 -1.421875 31.78125 -1.421875 \r\nQ 19.734375 -1.421875 13.25 4.234375 \r\nQ 6.78125 9.90625 6.78125 20.515625 \r\nQ 6.78125 27.484375 10.78125 32.3125 \r\nQ 14.796875 37.15625 21.921875 38.8125 \r\nz\r\nM 18.3125 54.390625 \r\nQ 18.3125 48.734375 21.84375 45.5625 \r\nQ 25.390625 42.390625 31.78125 42.390625 \r\nQ 38.140625 42.390625 41.71875 45.5625 \r\nQ 45.3125 48.734375 45.3125 54.390625 \r\nQ 45.3125 60.0625 41.71875 63.234375 \r\nQ 38.140625 66.40625 31.78125 66.40625 \r\nQ 25.390625 66.40625 21.84375 63.234375 \r\nQ 18.3125 60.0625 18.3125 54.390625 \r\nz\r\n\" id=\"DejaVuSans-56\"/>\r\n      <path d=\"M 10.6875 12.40625 \r\nL 21 12.40625 \r\nL 21 0 \r\nL 10.6875 0 \r\nz\r\n\" id=\"DejaVuSans-46\"/>\r\n      <path d=\"M 72.703125 32.078125 \r\nQ 68.453125 32.078125 66.03125 28.46875 \r\nQ 63.625 24.859375 63.625 18.40625 \r\nQ 63.625 12.0625 66.03125 8.421875 \r\nQ 68.453125 4.78125 72.703125 4.78125 \r\nQ 76.859375 4.78125 79.265625 8.421875 \r\nQ 81.6875 12.0625 81.6875 18.40625 \r\nQ 81.6875 24.8125 79.265625 28.4375 \r\nQ 76.859375 32.078125 72.703125 32.078125 \r\nz\r\nM 72.703125 38.28125 \r\nQ 80.421875 38.28125 84.953125 32.90625 \r\nQ 89.5 27.546875 89.5 18.40625 \r\nQ 89.5 9.28125 84.9375 3.921875 \r\nQ 80.375 -1.421875 72.703125 -1.421875 \r\nQ 64.890625 -1.421875 60.34375 3.921875 \r\nQ 55.8125 9.28125 55.8125 18.40625 \r\nQ 55.8125 27.59375 60.375 32.9375 \r\nQ 64.9375 38.28125 72.703125 38.28125 \r\nz\r\nM 22.3125 68.015625 \r\nQ 18.109375 68.015625 15.6875 64.375 \r\nQ 13.28125 60.75 13.28125 54.390625 \r\nQ 13.28125 47.953125 15.671875 44.328125 \r\nQ 18.0625 40.71875 22.3125 40.71875 \r\nQ 26.5625 40.71875 28.96875 44.328125 \r\nQ 31.390625 47.953125 31.390625 54.390625 \r\nQ 31.390625 60.6875 28.953125 64.34375 \r\nQ 26.515625 68.015625 22.3125 68.015625 \r\nz\r\nM 66.40625 74.21875 \r\nL 74.21875 74.21875 \r\nL 28.609375 -1.421875 \r\nL 20.796875 -1.421875 \r\nz\r\nM 22.3125 74.21875 \r\nQ 30.03125 74.21875 34.609375 68.875 \r\nQ 39.203125 63.53125 39.203125 54.390625 \r\nQ 39.203125 45.171875 34.640625 39.84375 \r\nQ 30.078125 34.515625 22.3125 34.515625 \r\nQ 14.546875 34.515625 10.03125 39.859375 \r\nQ 5.515625 45.21875 5.515625 54.390625 \r\nQ 5.515625 63.484375 10.046875 68.84375 \r\nQ 14.59375 74.21875 22.3125 74.21875 \r\nz\r\n\" id=\"DejaVuSans-37\"/>\r\n     </defs>\r\n     <use xlink:href=\"#DejaVuSans-55\"/>\r\n     <use x=\"63.623047\" xlink:href=\"#DejaVuSans-56\"/>\r\n     <use x=\"127.246094\" xlink:href=\"#DejaVuSans-46\"/>\r\n     <use x=\"159.033203\" xlink:href=\"#DejaVuSans-56\"/>\r\n     <use x=\"222.65625\" xlink:href=\"#DejaVuSans-37\"/>\r\n    </g>\r\n   </g>\r\n   <g id=\"text_3\">\r\n    <!-- Didn't Shown -->\r\n    <g transform=\"translate(136.104091 51.492471)scale(0.1 -0.1)\">\r\n     <defs>\r\n      <path d=\"M 19.671875 64.796875 \r\nL 19.671875 8.109375 \r\nL 31.59375 8.109375 \r\nQ 46.6875 8.109375 53.6875 14.9375 \r\nQ 60.6875 21.78125 60.6875 36.53125 \r\nQ 60.6875 51.171875 53.6875 57.984375 \r\nQ 46.6875 64.796875 31.59375 64.796875 \r\nz\r\nM 9.8125 72.90625 \r\nL 30.078125 72.90625 \r\nQ 51.265625 72.90625 61.171875 64.09375 \r\nQ 71.09375 55.28125 71.09375 36.53125 \r\nQ 71.09375 17.671875 61.125 8.828125 \r\nQ 51.171875 0 30.078125 0 \r\nL 9.8125 0 \r\nz\r\n\" id=\"DejaVuSans-68\"/>\r\n      <path d=\"M 9.421875 54.6875 \r\nL 18.40625 54.6875 \r\nL 18.40625 0 \r\nL 9.421875 0 \r\nz\r\nM 9.421875 75.984375 \r\nL 18.40625 75.984375 \r\nL 18.40625 64.59375 \r\nL 9.421875 64.59375 \r\nz\r\n\" id=\"DejaVuSans-105\"/>\r\n      <path d=\"M 45.40625 46.390625 \r\nL 45.40625 75.984375 \r\nL 54.390625 75.984375 \r\nL 54.390625 0 \r\nL 45.40625 0 \r\nL 45.40625 8.203125 \r\nQ 42.578125 3.328125 38.25 0.953125 \r\nQ 33.9375 -1.421875 27.875 -1.421875 \r\nQ 17.96875 -1.421875 11.734375 6.484375 \r\nQ 5.515625 14.40625 5.515625 27.296875 \r\nQ 5.515625 40.1875 11.734375 48.09375 \r\nQ 17.96875 56 27.875 56 \r\nQ 33.9375 56 38.25 53.625 \r\nQ 42.578125 51.265625 45.40625 46.390625 \r\nz\r\nM 14.796875 27.296875 \r\nQ 14.796875 17.390625 18.875 11.75 \r\nQ 22.953125 6.109375 30.078125 6.109375 \r\nQ 37.203125 6.109375 41.296875 11.75 \r\nQ 45.40625 17.390625 45.40625 27.296875 \r\nQ 45.40625 37.203125 41.296875 42.84375 \r\nQ 37.203125 48.484375 30.078125 48.484375 \r\nQ 22.953125 48.484375 18.875 42.84375 \r\nQ 14.796875 37.203125 14.796875 27.296875 \r\nz\r\n\" id=\"DejaVuSans-100\"/>\r\n      <path d=\"M 17.921875 72.90625 \r\nL 17.921875 45.796875 \r\nL 9.625 45.796875 \r\nL 9.625 72.90625 \r\nz\r\n\" id=\"DejaVuSans-39\"/>\r\n      <path d=\"M 18.3125 70.21875 \r\nL 18.3125 54.6875 \r\nL 36.8125 54.6875 \r\nL 36.8125 47.703125 \r\nL 18.3125 47.703125 \r\nL 18.3125 18.015625 \r\nQ 18.3125 11.328125 20.140625 9.421875 \r\nQ 21.96875 7.515625 27.59375 7.515625 \r\nL 36.8125 7.515625 \r\nL 36.8125 0 \r\nL 27.59375 0 \r\nQ 17.1875 0 13.234375 3.875 \r\nQ 9.28125 7.765625 9.28125 18.015625 \r\nL 9.28125 47.703125 \r\nL 2.6875 47.703125 \r\nL 2.6875 54.6875 \r\nL 9.28125 54.6875 \r\nL 9.28125 70.21875 \r\nz\r\n\" id=\"DejaVuSans-116\"/>\r\n      <path id=\"DejaVuSans-32\"/>\r\n     </defs>\r\n     <use xlink:href=\"#DejaVuSans-68\"/>\r\n     <use x=\"77.001953\" xlink:href=\"#DejaVuSans-105\"/>\r\n     <use x=\"104.785156\" xlink:href=\"#DejaVuSans-100\"/>\r\n     <use x=\"168.261719\" xlink:href=\"#DejaVuSans-110\"/>\r\n     <use x=\"231.640625\" xlink:href=\"#DejaVuSans-39\"/>\r\n     <use x=\"259.130859\" xlink:href=\"#DejaVuSans-116\"/>\r\n     <use x=\"298.339844\" xlink:href=\"#DejaVuSans-32\"/>\r\n     <use x=\"330.126953\" xlink:href=\"#DejaVuSans-83\"/>\r\n     <use x=\"393.603516\" xlink:href=\"#DejaVuSans-104\"/>\r\n     <use x=\"456.982422\" xlink:href=\"#DejaVuSans-111\"/>\r\n     <use x=\"518.164062\" xlink:href=\"#DejaVuSans-119\"/>\r\n     <use x=\"599.951172\" xlink:href=\"#DejaVuSans-110\"/>\r\n    </g>\r\n   </g>\r\n   <g id=\"text_4\">\r\n    <!-- 21.2% -->\r\n    <g transform=\"translate(202.213524 125.967484)scale(0.1 -0.1)\">\r\n     <defs>\r\n      <path d=\"M 19.1875 8.296875 \r\nL 53.609375 8.296875 \r\nL 53.609375 0 \r\nL 7.328125 0 \r\nL 7.328125 8.296875 \r\nQ 12.9375 14.109375 22.625 23.890625 \r\nQ 32.328125 33.6875 34.8125 36.53125 \r\nQ 39.546875 41.84375 41.421875 45.53125 \r\nQ 43.3125 49.21875 43.3125 52.78125 \r\nQ 43.3125 58.59375 39.234375 62.25 \r\nQ 35.15625 65.921875 28.609375 65.921875 \r\nQ 23.96875 65.921875 18.8125 64.3125 \r\nQ 13.671875 62.703125 7.8125 59.421875 \r\nL 7.8125 69.390625 \r\nQ 13.765625 71.78125 18.9375 73 \r\nQ 24.125 74.21875 28.421875 74.21875 \r\nQ 39.75 74.21875 46.484375 68.546875 \r\nQ 53.21875 62.890625 53.21875 53.421875 \r\nQ 53.21875 48.921875 51.53125 44.890625 \r\nQ 49.859375 40.875 45.40625 35.40625 \r\nQ 44.1875 33.984375 37.640625 27.21875 \r\nQ 31.109375 20.453125 19.1875 8.296875 \r\nz\r\n\" id=\"DejaVuSans-50\"/>\r\n      <path d=\"M 12.40625 8.296875 \r\nL 28.515625 8.296875 \r\nL 28.515625 63.921875 \r\nL 10.984375 60.40625 \r\nL 10.984375 69.390625 \r\nL 28.421875 72.90625 \r\nL 38.28125 72.90625 \r\nL 38.28125 8.296875 \r\nL 54.390625 8.296875 \r\nL 54.390625 0 \r\nL 12.40625 0 \r\nz\r\n\" id=\"DejaVuSans-49\"/>\r\n     </defs>\r\n     <use xlink:href=\"#DejaVuSans-50\"/>\r\n     <use x=\"63.623047\" xlink:href=\"#DejaVuSans-49\"/>\r\n     <use x=\"127.246094\" xlink:href=\"#DejaVuSans-46\"/>\r\n     <use x=\"159.033203\" xlink:href=\"#DejaVuSans-50\"/>\r\n     <use x=\"222.65625\" xlink:href=\"#DejaVuSans-37\"/>\r\n    </g>\r\n   </g>\r\n   <g id=\"text_5\">\r\n    <!-- Percentage of the People who shown and didn't show for their appointments -->\r\n    <g transform=\"translate(7.2 16.318125)scale(0.12 -0.12)\">\r\n     <defs>\r\n      <path d=\"M 19.671875 64.796875 \r\nL 19.671875 37.40625 \r\nL 32.078125 37.40625 \r\nQ 38.96875 37.40625 42.71875 40.96875 \r\nQ 46.484375 44.53125 46.484375 51.125 \r\nQ 46.484375 57.671875 42.71875 61.234375 \r\nQ 38.96875 64.796875 32.078125 64.796875 \r\nz\r\nM 9.8125 72.90625 \r\nL 32.078125 72.90625 \r\nQ 44.34375 72.90625 50.609375 67.359375 \r\nQ 56.890625 61.8125 56.890625 51.125 \r\nQ 56.890625 40.328125 50.609375 34.8125 \r\nQ 44.34375 29.296875 32.078125 29.296875 \r\nL 19.671875 29.296875 \r\nL 19.671875 0 \r\nL 9.8125 0 \r\nz\r\n\" id=\"DejaVuSans-80\"/>\r\n      <path d=\"M 56.203125 29.59375 \r\nL 56.203125 25.203125 \r\nL 14.890625 25.203125 \r\nQ 15.484375 15.921875 20.484375 11.0625 \r\nQ 25.484375 6.203125 34.421875 6.203125 \r\nQ 39.59375 6.203125 44.453125 7.46875 \r\nQ 49.3125 8.734375 54.109375 11.28125 \r\nL 54.109375 2.78125 \r\nQ 49.265625 0.734375 44.1875 -0.34375 \r\nQ 39.109375 -1.421875 33.890625 -1.421875 \r\nQ 20.796875 -1.421875 13.15625 6.1875 \r\nQ 5.515625 13.8125 5.515625 26.8125 \r\nQ 5.515625 40.234375 12.765625 48.109375 \r\nQ 20.015625 56 32.328125 56 \r\nQ 43.359375 56 49.78125 48.890625 \r\nQ 56.203125 41.796875 56.203125 29.59375 \r\nz\r\nM 47.21875 32.234375 \r\nQ 47.125 39.59375 43.09375 43.984375 \r\nQ 39.0625 48.390625 32.421875 48.390625 \r\nQ 24.90625 48.390625 20.390625 44.140625 \r\nQ 15.875 39.890625 15.1875 32.171875 \r\nz\r\n\" id=\"DejaVuSans-101\"/>\r\n      <path d=\"M 41.109375 46.296875 \r\nQ 39.59375 47.171875 37.8125 47.578125 \r\nQ 36.03125 48 33.890625 48 \r\nQ 26.265625 48 22.1875 43.046875 \r\nQ 18.109375 38.09375 18.109375 28.8125 \r\nL 18.109375 0 \r\nL 9.078125 0 \r\nL 9.078125 54.6875 \r\nL 18.109375 54.6875 \r\nL 18.109375 46.1875 \r\nQ 20.953125 51.171875 25.484375 53.578125 \r\nQ 30.03125 56 36.53125 56 \r\nQ 37.453125 56 38.578125 55.875 \r\nQ 39.703125 55.765625 41.0625 55.515625 \r\nz\r\n\" id=\"DejaVuSans-114\"/>\r\n      <path d=\"M 48.78125 52.59375 \r\nL 48.78125 44.1875 \r\nQ 44.96875 46.296875 41.140625 47.34375 \r\nQ 37.3125 48.390625 33.40625 48.390625 \r\nQ 24.65625 48.390625 19.8125 42.84375 \r\nQ 14.984375 37.3125 14.984375 27.296875 \r\nQ 14.984375 17.28125 19.8125 11.734375 \r\nQ 24.65625 6.203125 33.40625 6.203125 \r\nQ 37.3125 6.203125 41.140625 7.25 \r\nQ 44.96875 8.296875 48.78125 10.40625 \r\nL 48.78125 2.09375 \r\nQ 45.015625 0.34375 40.984375 -0.53125 \r\nQ 36.96875 -1.421875 32.421875 -1.421875 \r\nQ 20.0625 -1.421875 12.78125 6.34375 \r\nQ 5.515625 14.109375 5.515625 27.296875 \r\nQ 5.515625 40.671875 12.859375 48.328125 \r\nQ 20.21875 56 33.015625 56 \r\nQ 37.15625 56 41.109375 55.140625 \r\nQ 45.0625 54.296875 48.78125 52.59375 \r\nz\r\n\" id=\"DejaVuSans-99\"/>\r\n      <path d=\"M 34.28125 27.484375 \r\nQ 23.390625 27.484375 19.1875 25 \r\nQ 14.984375 22.515625 14.984375 16.5 \r\nQ 14.984375 11.71875 18.140625 8.90625 \r\nQ 21.296875 6.109375 26.703125 6.109375 \r\nQ 34.1875 6.109375 38.703125 11.40625 \r\nQ 43.21875 16.703125 43.21875 25.484375 \r\nL 43.21875 27.484375 \r\nz\r\nM 52.203125 31.203125 \r\nL 52.203125 0 \r\nL 43.21875 0 \r\nL 43.21875 8.296875 \r\nQ 40.140625 3.328125 35.546875 0.953125 \r\nQ 30.953125 -1.421875 24.3125 -1.421875 \r\nQ 15.921875 -1.421875 10.953125 3.296875 \r\nQ 6 8.015625 6 15.921875 \r\nQ 6 25.140625 12.171875 29.828125 \r\nQ 18.359375 34.515625 30.609375 34.515625 \r\nL 43.21875 34.515625 \r\nL 43.21875 35.40625 \r\nQ 43.21875 41.609375 39.140625 45 \r\nQ 35.0625 48.390625 27.6875 48.390625 \r\nQ 23 48.390625 18.546875 47.265625 \r\nQ 14.109375 46.140625 10.015625 43.890625 \r\nL 10.015625 52.203125 \r\nQ 14.9375 54.109375 19.578125 55.046875 \r\nQ 24.21875 56 28.609375 56 \r\nQ 40.484375 56 46.34375 49.84375 \r\nQ 52.203125 43.703125 52.203125 31.203125 \r\nz\r\n\" id=\"DejaVuSans-97\"/>\r\n      <path d=\"M 45.40625 27.984375 \r\nQ 45.40625 37.75 41.375 43.109375 \r\nQ 37.359375 48.484375 30.078125 48.484375 \r\nQ 22.859375 48.484375 18.828125 43.109375 \r\nQ 14.796875 37.75 14.796875 27.984375 \r\nQ 14.796875 18.265625 18.828125 12.890625 \r\nQ 22.859375 7.515625 30.078125 7.515625 \r\nQ 37.359375 7.515625 41.375 12.890625 \r\nQ 45.40625 18.265625 45.40625 27.984375 \r\nz\r\nM 54.390625 6.78125 \r\nQ 54.390625 -7.171875 48.1875 -13.984375 \r\nQ 42 -20.796875 29.203125 -20.796875 \r\nQ 24.46875 -20.796875 20.265625 -20.09375 \r\nQ 16.0625 -19.390625 12.109375 -17.921875 \r\nL 12.109375 -9.1875 \r\nQ 16.0625 -11.328125 19.921875 -12.34375 \r\nQ 23.78125 -13.375 27.78125 -13.375 \r\nQ 36.625 -13.375 41.015625 -8.765625 \r\nQ 45.40625 -4.15625 45.40625 5.171875 \r\nL 45.40625 9.625 \r\nQ 42.625 4.78125 38.28125 2.390625 \r\nQ 33.9375 0 27.875 0 \r\nQ 17.828125 0 11.671875 7.65625 \r\nQ 5.515625 15.328125 5.515625 27.984375 \r\nQ 5.515625 40.671875 11.671875 48.328125 \r\nQ 17.828125 56 27.875 56 \r\nQ 33.9375 56 38.28125 53.609375 \r\nQ 42.625 51.21875 45.40625 46.390625 \r\nL 45.40625 54.6875 \r\nL 54.390625 54.6875 \r\nz\r\n\" id=\"DejaVuSans-103\"/>\r\n      <path d=\"M 37.109375 75.984375 \r\nL 37.109375 68.5 \r\nL 28.515625 68.5 \r\nQ 23.6875 68.5 21.796875 66.546875 \r\nQ 19.921875 64.59375 19.921875 59.515625 \r\nL 19.921875 54.6875 \r\nL 34.71875 54.6875 \r\nL 34.71875 47.703125 \r\nL 19.921875 47.703125 \r\nL 19.921875 0 \r\nL 10.890625 0 \r\nL 10.890625 47.703125 \r\nL 2.296875 47.703125 \r\nL 2.296875 54.6875 \r\nL 10.890625 54.6875 \r\nL 10.890625 58.5 \r\nQ 10.890625 67.625 15.140625 71.796875 \r\nQ 19.390625 75.984375 28.609375 75.984375 \r\nz\r\n\" id=\"DejaVuSans-102\"/>\r\n      <path d=\"M 18.109375 8.203125 \r\nL 18.109375 -20.796875 \r\nL 9.078125 -20.796875 \r\nL 9.078125 54.6875 \r\nL 18.109375 54.6875 \r\nL 18.109375 46.390625 \r\nQ 20.953125 51.265625 25.265625 53.625 \r\nQ 29.59375 56 35.59375 56 \r\nQ 45.5625 56 51.78125 48.09375 \r\nQ 58.015625 40.1875 58.015625 27.296875 \r\nQ 58.015625 14.40625 51.78125 6.484375 \r\nQ 45.5625 -1.421875 35.59375 -1.421875 \r\nQ 29.59375 -1.421875 25.265625 0.953125 \r\nQ 20.953125 3.328125 18.109375 8.203125 \r\nz\r\nM 48.6875 27.296875 \r\nQ 48.6875 37.203125 44.609375 42.84375 \r\nQ 40.53125 48.484375 33.40625 48.484375 \r\nQ 26.265625 48.484375 22.1875 42.84375 \r\nQ 18.109375 37.203125 18.109375 27.296875 \r\nQ 18.109375 17.390625 22.1875 11.75 \r\nQ 26.265625 6.109375 33.40625 6.109375 \r\nQ 40.53125 6.109375 44.609375 11.75 \r\nQ 48.6875 17.390625 48.6875 27.296875 \r\nz\r\n\" id=\"DejaVuSans-112\"/>\r\n      <path d=\"M 9.421875 75.984375 \r\nL 18.40625 75.984375 \r\nL 18.40625 0 \r\nL 9.421875 0 \r\nz\r\n\" id=\"DejaVuSans-108\"/>\r\n      <path d=\"M 44.28125 53.078125 \r\nL 44.28125 44.578125 \r\nQ 40.484375 46.53125 36.375 47.5 \r\nQ 32.28125 48.484375 27.875 48.484375 \r\nQ 21.1875 48.484375 17.84375 46.4375 \r\nQ 14.5 44.390625 14.5 40.28125 \r\nQ 14.5 37.15625 16.890625 35.375 \r\nQ 19.28125 33.59375 26.515625 31.984375 \r\nL 29.59375 31.296875 \r\nQ 39.15625 29.25 43.1875 25.515625 \r\nQ 47.21875 21.78125 47.21875 15.09375 \r\nQ 47.21875 7.46875 41.1875 3.015625 \r\nQ 35.15625 -1.421875 24.609375 -1.421875 \r\nQ 20.21875 -1.421875 15.453125 -0.5625 \r\nQ 10.6875 0.296875 5.421875 2 \r\nL 5.421875 11.28125 \r\nQ 10.40625 8.6875 15.234375 7.390625 \r\nQ 20.0625 6.109375 24.8125 6.109375 \r\nQ 31.15625 6.109375 34.5625 8.28125 \r\nQ 37.984375 10.453125 37.984375 14.40625 \r\nQ 37.984375 18.0625 35.515625 20.015625 \r\nQ 33.0625 21.96875 24.703125 23.78125 \r\nL 21.578125 24.515625 \r\nQ 13.234375 26.265625 9.515625 29.90625 \r\nQ 5.8125 33.546875 5.8125 39.890625 \r\nQ 5.8125 47.609375 11.28125 51.796875 \r\nQ 16.75 56 26.8125 56 \r\nQ 31.78125 56 36.171875 55.265625 \r\nQ 40.578125 54.546875 44.28125 53.078125 \r\nz\r\n\" id=\"DejaVuSans-115\"/>\r\n      <path d=\"M 52 44.1875 \r\nQ 55.375 50.25 60.0625 53.125 \r\nQ 64.75 56 71.09375 56 \r\nQ 79.640625 56 84.28125 50.015625 \r\nQ 88.921875 44.046875 88.921875 33.015625 \r\nL 88.921875 0 \r\nL 79.890625 0 \r\nL 79.890625 32.71875 \r\nQ 79.890625 40.578125 77.09375 44.375 \r\nQ 74.3125 48.1875 68.609375 48.1875 \r\nQ 61.625 48.1875 57.5625 43.546875 \r\nQ 53.515625 38.921875 53.515625 30.90625 \r\nL 53.515625 0 \r\nL 44.484375 0 \r\nL 44.484375 32.71875 \r\nQ 44.484375 40.625 41.703125 44.40625 \r\nQ 38.921875 48.1875 33.109375 48.1875 \r\nQ 26.21875 48.1875 22.15625 43.53125 \r\nQ 18.109375 38.875 18.109375 30.90625 \r\nL 18.109375 0 \r\nL 9.078125 0 \r\nL 9.078125 54.6875 \r\nL 18.109375 54.6875 \r\nL 18.109375 46.1875 \r\nQ 21.1875 51.21875 25.484375 53.609375 \r\nQ 29.78125 56 35.6875 56 \r\nQ 41.65625 56 45.828125 52.96875 \r\nQ 50 49.953125 52 44.1875 \r\nz\r\n\" id=\"DejaVuSans-109\"/>\r\n     </defs>\r\n     <use xlink:href=\"#DejaVuSans-80\"/>\r\n     <use x=\"56.677734\" xlink:href=\"#DejaVuSans-101\"/>\r\n     <use x=\"118.201172\" xlink:href=\"#DejaVuSans-114\"/>\r\n     <use x=\"157.064453\" xlink:href=\"#DejaVuSans-99\"/>\r\n     <use x=\"212.044922\" xlink:href=\"#DejaVuSans-101\"/>\r\n     <use x=\"273.568359\" xlink:href=\"#DejaVuSans-110\"/>\r\n     <use x=\"336.947266\" xlink:href=\"#DejaVuSans-116\"/>\r\n     <use x=\"376.15625\" xlink:href=\"#DejaVuSans-97\"/>\r\n     <use x=\"437.435547\" xlink:href=\"#DejaVuSans-103\"/>\r\n     <use x=\"500.912109\" xlink:href=\"#DejaVuSans-101\"/>\r\n     <use x=\"562.435547\" xlink:href=\"#DejaVuSans-32\"/>\r\n     <use x=\"594.222656\" xlink:href=\"#DejaVuSans-111\"/>\r\n     <use x=\"655.404297\" xlink:href=\"#DejaVuSans-102\"/>\r\n     <use x=\"690.609375\" xlink:href=\"#DejaVuSans-32\"/>\r\n     <use x=\"722.396484\" xlink:href=\"#DejaVuSans-116\"/>\r\n     <use x=\"761.605469\" xlink:href=\"#DejaVuSans-104\"/>\r\n     <use x=\"824.984375\" xlink:href=\"#DejaVuSans-101\"/>\r\n     <use x=\"886.507812\" xlink:href=\"#DejaVuSans-32\"/>\r\n     <use x=\"918.294922\" xlink:href=\"#DejaVuSans-80\"/>\r\n     <use x=\"974.972656\" xlink:href=\"#DejaVuSans-101\"/>\r\n     <use x=\"1036.496094\" xlink:href=\"#DejaVuSans-111\"/>\r\n     <use x=\"1097.677734\" xlink:href=\"#DejaVuSans-112\"/>\r\n     <use x=\"1161.154297\" xlink:href=\"#DejaVuSans-108\"/>\r\n     <use x=\"1188.9375\" xlink:href=\"#DejaVuSans-101\"/>\r\n     <use x=\"1250.460938\" xlink:href=\"#DejaVuSans-32\"/>\r\n     <use x=\"1282.248047\" xlink:href=\"#DejaVuSans-119\"/>\r\n     <use x=\"1364.035156\" xlink:href=\"#DejaVuSans-104\"/>\r\n     <use x=\"1427.414062\" xlink:href=\"#DejaVuSans-111\"/>\r\n     <use x=\"1488.595703\" xlink:href=\"#DejaVuSans-32\"/>\r\n     <use x=\"1520.382812\" xlink:href=\"#DejaVuSans-115\"/>\r\n     <use x=\"1572.482422\" xlink:href=\"#DejaVuSans-104\"/>\r\n     <use x=\"1635.861328\" xlink:href=\"#DejaVuSans-111\"/>\r\n     <use x=\"1697.042969\" xlink:href=\"#DejaVuSans-119\"/>\r\n     <use x=\"1778.830078\" xlink:href=\"#DejaVuSans-110\"/>\r\n     <use x=\"1842.208984\" xlink:href=\"#DejaVuSans-32\"/>\r\n     <use x=\"1873.996094\" xlink:href=\"#DejaVuSans-97\"/>\r\n     <use x=\"1935.275391\" xlink:href=\"#DejaVuSans-110\"/>\r\n     <use x=\"1998.654297\" xlink:href=\"#DejaVuSans-100\"/>\r\n     <use x=\"2062.130859\" xlink:href=\"#DejaVuSans-32\"/>\r\n     <use x=\"2093.917969\" xlink:href=\"#DejaVuSans-100\"/>\r\n     <use x=\"2157.394531\" xlink:href=\"#DejaVuSans-105\"/>\r\n     <use x=\"2185.177734\" xlink:href=\"#DejaVuSans-100\"/>\r\n     <use x=\"2248.654297\" xlink:href=\"#DejaVuSans-110\"/>\r\n     <use x=\"2312.033203\" xlink:href=\"#DejaVuSans-39\"/>\r\n     <use x=\"2339.523438\" xlink:href=\"#DejaVuSans-116\"/>\r\n     <use x=\"2378.732422\" xlink:href=\"#DejaVuSans-32\"/>\r\n     <use x=\"2410.519531\" xlink:href=\"#DejaVuSans-115\"/>\r\n     <use x=\"2462.619141\" xlink:href=\"#DejaVuSans-104\"/>\r\n     <use x=\"2525.998047\" xlink:href=\"#DejaVuSans-111\"/>\r\n     <use x=\"2587.179688\" xlink:href=\"#DejaVuSans-119\"/>\r\n     <use x=\"2668.966797\" xlink:href=\"#DejaVuSans-32\"/>\r\n     <use x=\"2700.753906\" xlink:href=\"#DejaVuSans-102\"/>\r\n     <use x=\"2735.958984\" xlink:href=\"#DejaVuSans-111\"/>\r\n     <use x=\"2797.140625\" xlink:href=\"#DejaVuSans-114\"/>\r\n     <use x=\"2838.253906\" xlink:href=\"#DejaVuSans-32\"/>\r\n     <use x=\"2870.041016\" xlink:href=\"#DejaVuSans-116\"/>\r\n     <use x=\"2909.25\" xlink:href=\"#DejaVuSans-104\"/>\r\n     <use x=\"2972.628906\" xlink:href=\"#DejaVuSans-101\"/>\r\n     <use x=\"3034.152344\" xlink:href=\"#DejaVuSans-105\"/>\r\n     <use x=\"3061.935547\" xlink:href=\"#DejaVuSans-114\"/>\r\n     <use x=\"3103.048828\" xlink:href=\"#DejaVuSans-32\"/>\r\n     <use x=\"3134.835938\" xlink:href=\"#DejaVuSans-97\"/>\r\n     <use x=\"3196.115234\" xlink:href=\"#DejaVuSans-112\"/>\r\n     <use x=\"3259.591797\" xlink:href=\"#DejaVuSans-112\"/>\r\n     <use x=\"3323.068359\" xlink:href=\"#DejaVuSans-111\"/>\r\n     <use x=\"3384.25\" xlink:href=\"#DejaVuSans-105\"/>\r\n     <use x=\"3412.033203\" xlink:href=\"#DejaVuSans-110\"/>\r\n     <use x=\"3475.412109\" xlink:href=\"#DejaVuSans-116\"/>\r\n     <use x=\"3514.621094\" xlink:href=\"#DejaVuSans-109\"/>\r\n     <use x=\"3612.033203\" xlink:href=\"#DejaVuSans-101\"/>\r\n     <use x=\"3673.556641\" xlink:href=\"#DejaVuSans-110\"/>\r\n     <use x=\"3736.935547\" xlink:href=\"#DejaVuSans-116\"/>\r\n     <use x=\"3776.144531\" xlink:href=\"#DejaVuSans-115\"/>\r\n    </g>\r\n   </g>\r\n  </g>\r\n </g>\r\n</svg>\r\n",
      "image/png": "[encoded data removed]"
     },
     "metadata": {}
    }
   ],
   "source": [
    "show_percent = show_df_clean.groupby('NoShow')['NoShow'].count().sort_values(ascending=False)\n",
    "\n",
    "sizes = list(show_percent)\n",
    "labels = show_percent.index\n",
    "colors = ['lightskyblue', 'lightcoral']\n",
    "explode = (0.1, 0)  # explode 1st slice\n",
    "\n",
    "f = plt.figure(figsize=(10, 7))\n",
    "\n",
    "ax1 = f.add_subplot(1, 1, 1)\n",
    "ax1.pie(sizes, labels=labels, colors=colors, explode=explode,\n",
    "        autopct='%1.1f%%', shadow=True, startangle=140)\n",
    "ax1.set_title(\"Percentage of the People who shown and didn't show for their appointments\")"
   ]
  },
  {
   "cell_type": "code",
   "execution_count": 19,
   "metadata": {},
   "outputs": [
    {
     "output_type": "stream",
     "name": "stdout",
     "text": [
      "<class 'pandas.core.frame.DataFrame'>\nRangeIndex: 5000 entries, 0 to 4999\nData columns (total 14 columns):\n #   Column          Non-Null Count  Dtype  \n---  ------          --------------  -----  \n 0   PatientId       5000 non-null   float64\n 1   AppointmentID   5000 non-null   int64  \n 2   Gender          5000 non-null   object \n 3   ScheduledDay    5000 non-null   object \n 4   AppointmentDay  5000 non-null   object \n 5   Age             5000 non-null   int64  \n 6   Neighbourhood   5000 non-null   object \n 7   Scholarship     5000 non-null   int64  \n 8   Hipertension    5000 non-null   int64  \n 9   Diabetes        5000 non-null   int64  \n 10  Alcoholism      5000 non-null   int64  \n 11  Handcap         5000 non-null   int64  \n 12  SMS_received    5000 non-null   int64  \n 13  NoShow          5000 non-null   object \ndtypes: float64(1), int64(8), object(5)\nmemory usage: 547.0+ KB\n"
     ]
    }
   ],
   "source": [
    "df.info()"
   ]
  },
  {
   "source": [
    "## B. DATA CLEANSING & PRE-PROCESSING"
   ],
   "cell_type": "markdown",
   "metadata": {}
  },
  {
   "cell_type": "code",
   "execution_count": 27,
   "metadata": {},
   "outputs": [
    {
     "output_type": "stream",
     "name": "stdout",
     "text": [
      "<class 'pandas.core.frame.DataFrame'>\nRangeIndex: 5000 entries, 0 to 4999\nData columns (total 14 columns):\n #   Column          Non-Null Count  Dtype  \n---  ------          --------------  -----  \n 0   PatientId       5000 non-null   float64\n 1   AppointmentID   5000 non-null   int64  \n 2   Gender          5000 non-null   object \n 3   ScheduledDay    5000 non-null   object \n 4   AppointmentDay  5000 non-null   object \n 5   Age             5000 non-null   int64  \n 6   Neighbourhood   5000 non-null   object \n 7   Scholarship     5000 non-null   int64  \n 8   Hipertension    5000 non-null   int64  \n 9   Diabetes        5000 non-null   int64  \n 10  Alcoholism      5000 non-null   int64  \n 11  Handcap         5000 non-null   int64  \n 12  SMS_received    5000 non-null   int64  \n 13  NoShow          5000 non-null   object \ndtypes: float64(1), int64(8), object(5)\nmemory usage: 547.0+ KB\n"
     ]
    }
   ],
   "source": [
    "df1 = df.copy()\n",
    "df1.info()"
   ]
  },
  {
   "cell_type": "code",
   "execution_count": null,
   "metadata": {},
   "outputs": [],
   "source": []
  },
  {
   "source": [
    "## Hal yang harus dilakukan:\n",
    "1. Dropping PatientId, AppointmentID, ScheduledDay, and AppointmentDay as we won't use them for analysis.\n",
    "2. Replacing Yes (0) and No (1) just for clarity and avoiding misconveniention."
   ],
   "cell_type": "markdown",
   "metadata": {}
  },
  {
   "cell_type": "code",
   "execution_count": 28,
   "metadata": {},
   "outputs": [],
   "source": [
    "# 1. Dropping PatientId, AppointmentID, ScheduledDay, and AppointmentDay.\n",
    "df1.drop(columns=['PatientId', 'AppointmentID', 'ScheduledDay', 'AppointmentDay'], inplace=True)"
   ]
  },
  {
   "cell_type": "code",
   "execution_count": 29,
   "metadata": {},
   "outputs": [],
   "source": [
    "# 2. Replacing Yes by 0, and No by 1\n",
    "df1.loc[df1['NoShow'] == 'Yes', ['NoShow']] = 0\n",
    "df1.loc[df1['NoShow'] == 'No', ['NoShow']] = 1"
   ]
  },
  {
   "cell_type": "code",
   "execution_count": 30,
   "metadata": {},
   "outputs": [
    {
     "output_type": "execute_result",
     "data": {
      "text/plain": [
       "     Gender  Age      Neighbourhood  Scholarship  Hipertension  Diabetes  \\\n",
       "0         F   62    JARDIM DA PENHA            0             1         0   \n",
       "1         M   56    JARDIM DA PENHA            0             0         0   \n",
       "2         F   62      MATA DA PRAIA            0             0         0   \n",
       "3         F    8  PONTAL DE CAMBURI            0             0         0   \n",
       "4         F   56    JARDIM DA PENHA            0             1         1   \n",
       "...     ...  ...                ...          ...           ...       ...   \n",
       "4995      F   58        JUCUTUQUARA            0             0         0   \n",
       "4996      M   69          CONQUISTA            0             0         0   \n",
       "4997      F   39             CENTRO            0             1         0   \n",
       "4998      F   61       FONTE GRANDE            0             1         0   \n",
       "4999      F   57        RESISTÊNCIA            1             1         1   \n",
       "\n",
       "      Alcoholism  Handcap  SMS_received NoShow  \n",
       "0              0        0             0      1  \n",
       "1              0        0             0      1  \n",
       "2              0        0             0      1  \n",
       "3              0        0             0      1  \n",
       "4              0        0             0      1  \n",
       "...          ...      ...           ...    ...  \n",
       "4995           0        0             0      1  \n",
       "4996           0        0             0      1  \n",
       "4997           0        0             0      1  \n",
       "4998           0        0             0      1  \n",
       "4999           0        0             0      1  \n",
       "\n",
       "[5000 rows x 10 columns]"
      ],
      "text/html": "<div>\n<style scoped>\n    .dataframe tbody tr th:only-of-type {\n        vertical-align: middle;\n    }\n\n    .dataframe tbody tr th {\n        vertical-align: top;\n    }\n\n    .dataframe thead th {\n        text-align: right;\n    }\n</style>\n<table border=\"1\" class=\"dataframe\">\n  <thead>\n    <tr style=\"text-align: right;\">\n      <th></th>\n      <th>Gender</th>\n      <th>Age</th>\n      <th>Neighbourhood</th>\n      <th>Scholarship</th>\n      <th>Hipertension</th>\n      <th>Diabetes</th>\n      <th>Alcoholism</th>\n      <th>Handcap</th>\n      <th>SMS_received</th>\n      <th>NoShow</th>\n    </tr>\n  </thead>\n  <tbody>\n    <tr>\n      <th>0</th>\n      <td>F</td>\n      <td>62</td>\n      <td>JARDIM DA PENHA</td>\n      <td>0</td>\n      <td>1</td>\n      <td>0</td>\n      <td>0</td>\n      <td>0</td>\n      <td>0</td>\n      <td>1</td>\n    </tr>\n    <tr>\n      <th>1</th>\n      <td>M</td>\n      <td>56</td>\n      <td>JARDIM DA PENHA</td>\n      <td>0</td>\n      <td>0</td>\n      <td>0</td>\n      <td>0</td>\n      <td>0</td>\n      <td>0</td>\n      <td>1</td>\n    </tr>\n    <tr>\n      <th>2</th>\n      <td>F</td>\n      <td>62</td>\n      <td>MATA DA PRAIA</td>\n      <td>0</td>\n      <td>0</td>\n      <td>0</td>\n      <td>0</td>\n      <td>0</td>\n      <td>0</td>\n      <td>1</td>\n    </tr>\n    <tr>\n      <th>3</th>\n      <td>F</td>\n      <td>8</td>\n      <td>PONTAL DE CAMBURI</td>\n      <td>0</td>\n      <td>0</td>\n      <td>0</td>\n      <td>0</td>\n      <td>0</td>\n      <td>0</td>\n      <td>1</td>\n    </tr>\n    <tr>\n      <th>4</th>\n      <td>F</td>\n      <td>56</td>\n      <td>JARDIM DA PENHA</td>\n      <td>0</td>\n      <td>1</td>\n      <td>1</td>\n      <td>0</td>\n      <td>0</td>\n      <td>0</td>\n      <td>1</td>\n    </tr>\n    <tr>\n      <th>...</th>\n      <td>...</td>\n      <td>...</td>\n      <td>...</td>\n      <td>...</td>\n      <td>...</td>\n      <td>...</td>\n      <td>...</td>\n      <td>...</td>\n      <td>...</td>\n      <td>...</td>\n    </tr>\n    <tr>\n      <th>4995</th>\n      <td>F</td>\n      <td>58</td>\n      <td>JUCUTUQUARA</td>\n      <td>0</td>\n      <td>0</td>\n      <td>0</td>\n      <td>0</td>\n      <td>0</td>\n      <td>0</td>\n      <td>1</td>\n    </tr>\n    <tr>\n      <th>4996</th>\n      <td>M</td>\n      <td>69</td>\n      <td>CONQUISTA</td>\n      <td>0</td>\n      <td>0</td>\n      <td>0</td>\n      <td>0</td>\n      <td>0</td>\n      <td>0</td>\n      <td>1</td>\n    </tr>\n    <tr>\n      <th>4997</th>\n      <td>F</td>\n      <td>39</td>\n      <td>CENTRO</td>\n      <td>0</td>\n      <td>1</td>\n      <td>0</td>\n      <td>0</td>\n      <td>0</td>\n      <td>0</td>\n      <td>1</td>\n    </tr>\n    <tr>\n      <th>4998</th>\n      <td>F</td>\n      <td>61</td>\n      <td>FONTE GRANDE</td>\n      <td>0</td>\n      <td>1</td>\n      <td>0</td>\n      <td>0</td>\n      <td>0</td>\n      <td>0</td>\n      <td>1</td>\n    </tr>\n    <tr>\n      <th>4999</th>\n      <td>F</td>\n      <td>57</td>\n      <td>RESISTÊNCIA</td>\n      <td>1</td>\n      <td>1</td>\n      <td>1</td>\n      <td>0</td>\n      <td>0</td>\n      <td>0</td>\n      <td>1</td>\n    </tr>\n  </tbody>\n</table>\n<p>5000 rows × 10 columns</p>\n</div>"
     },
     "metadata": {},
     "execution_count": 30
    }
   ],
   "source": [
    "df1"
   ]
  },
  {
   "cell_type": "code",
   "execution_count": 31,
   "metadata": {},
   "outputs": [
    {
     "output_type": "stream",
     "name": "stdout",
     "text": [
      "<class 'pandas.core.frame.DataFrame'>\nRangeIndex: 5000 entries, 0 to 4999\nData columns (total 10 columns):\n #   Column         Non-Null Count  Dtype \n---  ------         --------------  ----- \n 0   Gender         5000 non-null   object\n 1   Age            5000 non-null   int64 \n 2   Neighbourhood  5000 non-null   object\n 3   Scholarship    5000 non-null   int64 \n 4   Hipertension   5000 non-null   int64 \n 5   Diabetes       5000 non-null   int64 \n 6   Alcoholism     5000 non-null   int64 \n 7   Handcap        5000 non-null   int64 \n 8   SMS_received   5000 non-null   int64 \n 9   NoShow         5000 non-null   object\ndtypes: int64(7), object(3)\nmemory usage: 390.8+ KB\n"
     ]
    }
   ],
   "source": [
    "df1.info()"
   ]
  },
  {
   "cell_type": "code",
   "execution_count": 35,
   "metadata": {},
   "outputs": [
    {
     "output_type": "execute_result",
     "data": {
      "text/plain": [
       "1    3941\n",
       "0    1059\n",
       "Name: NoShow, dtype: int64"
      ]
     },
     "metadata": {},
     "execution_count": 35
    }
   ],
   "source": [
    "df1['NoShow'].value_counts()"
   ]
  },
  {
   "cell_type": "code",
   "execution_count": null,
   "metadata": {},
   "outputs": [],
   "source": []
  },
  {
   "source": [
    "## Encoding scheme\n",
    "###\n",
    "-   Gender         : OneHot\n",
    "-   Age            : -\n",
    "-   Neighbourhood  : OneHotFill / Label Encoding / Binary\n",
    "-   Scholarship    : - \n",
    "-   Hipertension   : -\n",
    "-   Diabetes       : -\n",
    "-   Alcoholism     : -\n",
    "-   Handcap        : -\n",
    "-   SMS_received   : -\n",
    "-   NoShow         : TARGET"
   ],
   "cell_type": "markdown",
   "metadata": {}
  },
  {
   "cell_type": "code",
   "execution_count": 87,
   "metadata": {},
   "outputs": [
    {
     "output_type": "execute_result",
     "data": {
      "text/plain": [
       "RESISTÊNCIA          719\n",
       "MARIA ORTIZ          527\n",
       "JARDIM DA PENHA      158\n",
       "CENTRO               152\n",
       "JARDIM CAMBURI       142\n",
       "                    ... \n",
       "SEGURANÇA DO LAR       4\n",
       "MORADA DE CAMBURI      4\n",
       "ILHA DO BOI            3\n",
       "PONTAL DE CAMBURI      1\n",
       "ILHA DO FRADE          1\n",
       "Name: Neighbourhood, Length: 78, dtype: int64"
      ]
     },
     "metadata": {},
     "execution_count": 87
    }
   ],
   "source": [
    "df1['Neighbourhood'].value_counts()"
   ]
  },
  {
   "cell_type": "code",
   "execution_count": null,
   "metadata": {},
   "outputs": [],
   "source": [
    "# Encode features\n",
    "df1['Neighbourhood'] = LabelEncoder.fit_transform(df1['Neighbourhood'])\n",
    "df1['Gender'] = LabelEncoder.fit_transform(df1['Gender'])"
   ]
  },
  {
   "cell_type": "code",
   "execution_count": null,
   "metadata": {},
   "outputs": [],
   "source": [
    "#  Pipeline digunakan untuk menyatukan beberapa step sehingga Cross-Validation akan tetap bisa berjalan saat beberapa parameter diubah serta menghindari data/information leakage dan output diluar target processing.\n",
    "\n",
    "# from sklearn.impute import SimpleImputer\n",
    "\n",
    "onehot_fill=Pipeline([\n",
    "#     ('fillna',SimpleImputer(strategy='most_frequent')),\n",
    "#     ('encode',OneHotEncoder(drop='first'))\n",
    "# ])\n",
    "\n",
    "transformer= ColumnTransformer([('one_hot',OneHotEncoder(drop='first'),['Gender', 'Neighbourhood'])\n",
    "], remainder='passthrough')"
   ]
  },
  {
   "cell_type": "code",
   "execution_count": null,
   "metadata": {},
   "outputs": [],
   "source": [
    "transformer.transformers"
   ]
  },
  {
   "cell_type": "code",
   "execution_count": null,
   "metadata": {},
   "outputs": [],
   "source": [
    "transformer.fit_transform(df1)"
   ]
  },
  {
   "source": [
    "### Data hasil encoding sudah berupa 0 dan 1."
   ],
   "cell_type": "markdown",
   "metadata": {}
  },
  {
   "cell_type": "code",
   "execution_count": null,
   "metadata": {},
   "outputs": [],
   "source": []
  },
  {
   "source": [
    "## C. MODEL BENCHMARK & EVALUATION METRIC"
   ],
   "cell_type": "markdown",
   "metadata": {}
  },
  {
   "cell_type": "code",
   "execution_count": null,
   "metadata": {},
   "outputs": [],
   "source": [
    "## DATA SPLITTING\n",
    "X = df1.drop(columns = ['NoShow'])\n",
    "y = df1[['NoShow']]"
   ]
  },
  {
   "cell_type": "code",
   "execution_count": null,
   "metadata": {},
   "outputs": [],
   "source": [
    "# Pertama-tama, akan dilakukan splitting data untuk mencegah adanya data leakage.\n",
    "x_train,x_test,y_train,y_test = train_test_split(X,y,test_size=0.15)"
   ]
  },
  {
   "cell_type": "code",
   "execution_count": null,
   "metadata": {},
   "outputs": [],
   "source": [
    "x_train.head()"
   ]
  },
  {
   "cell_type": "code",
   "execution_count": null,
   "metadata": {},
   "outputs": [],
   "source": [
    "### selanjutnya akan dilakukan cross validation untuk memilih model benchmark.\n",
    "### Digunakan 3 jenis model ML, yaitu:\n",
    "\n",
    "1. Random Forest: model ini menggunakan basis decision tree dan termasuk ke dalam ensemble model. Model ini menggabungkan banyak decision tree ke dalam satu model dengan tujuan untuk meningkatkan akurasi prediksi\n",
    "\n",
    "2. Logistic Regression: model yang menggunakan basis linear regression untuk mengatasi masalah klasifikasi. Bedanya, hasil perhitungan formulanya akan dimasukkan ke dalam interval kelas 0 dan 1.\n",
    "\n",
    "3. Decision Tree: model yang bekerja dengan cara splitting node menjadi 2 atau lebih sub-nodes."
   ]
  },
  {
   "source": [
    "### 1. RANDOM FOREST CLASSIFIER"
   ],
   "cell_type": "markdown",
   "metadata": {}
  },
  {
   "cell_type": "code",
   "execution_count": null,
   "metadata": {},
   "outputs": [],
   "source": [
    "from sklearn.ensemble import RandomForestClassifier\n",
    "param_grid = {\n",
    "                'n_estimators':[5,7,10],\n",
    "                'criterion':['gini','entropy'],\n",
    "                'n_jobs':[-1], # -1 indicates the processing in parallel using all CPUs\n",
    "                'max_features':['auto','log2',None] \n",
    "}"
   ]
  },
  {
   "cell_type": "code",
   "execution_count": null,
   "metadata": {},
   "outputs": [],
   "source": [
    "RFC_grid = GridSearchCV(RandomForestClassifier(), param_grid, refit = True, verbose = 3)\n",
    "RFC_grid.fit(x_train, y_train) \n",
    "\n",
    "print(RFC_grid.best_params_) \n",
    "print(RFC_grid.best_estimator_)"
   ]
  },
  {
   "cell_type": "code",
   "execution_count": null,
   "metadata": {},
   "outputs": [],
   "source": [
    "RFC = RandomForestClassifier(n_estimators = RFC_grid.best_params_['n_estimators'],\n",
    "                             criterion = RFC_grid.best_params_['criterion'],\n",
    "                             max_features = RFC_grid.best_params_['max_features'],\n",
    "                             n_jobs = RFC_grid.best_params_['n_jobs'])\n",
    "RFC.fit(x_train, y_train)"
   ]
  },
  {
   "cell_type": "code",
   "execution_count": null,
   "metadata": {},
   "outputs": [],
   "source": [
    "RFC_y_pred = RFC.predict(x_test)\n",
    "RFC_accuracy = accuracy_score(RFC_y_pred,y_test)\n",
    "RFC_recall = recall_score(RFC_y_pred,y_test)\n",
    "RFC_precision = precision_score(RFC_y_pred,y_test)\n",
    "print(classification_report(RFC_y_pred,y_test))\n",
    "print('Confusion Matrix:\\n',confusion_matrix(RFC_y_pred,y_test))"
   ]
  },
  {
   "cell_type": "code",
   "execution_count": null,
   "metadata": {},
   "outputs": [],
   "source": [
    "### DARI HASIL INI DAPAT DILIHAT BAHWA RECALL (FALSE NEGATIVE) ,MEMILIKI NILAI TERTINGGI DIBANDINGKAN PRECISION DAN F1-SCORE.\n",
    "### Hal ini menyimpulkan bahwa model memprediksi customer akan muncul ketika telah membuat appoinment dari setiap data historis appoinment pasien, tapi realisasinya adalah customer tidak datang/ No-Show. "
   ]
  },
  {
   "source": [
    "### 2. LOGISTIC REGRESSION"
   ],
   "cell_type": "markdown",
   "metadata": {}
  },
  {
   "cell_type": "code",
   "execution_count": null,
   "metadata": {},
   "outputs": [],
   "source": [
    "lr = LogisticRegression(random_state=10,max_iter=200)\n",
    "lr.fit(x_train,y_train)"
   ]
  },
  {
   "cell_type": "code",
   "execution_count": null,
   "metadata": {},
   "outputs": [],
   "source": [
    "lr_y_pred = lr.predict(x_test)\n",
    "lr_accuracy = accuracy_score(lr_y_pred,y_test)\n",
    "lr_recall = recall_score(lr_y_pred,y_test)\n",
    "lr_precision = precision_score(lr_y_pred,y_test)\n",
    "print(classification_report(lr_y_pred,y_test))\n",
    "print('Confusion Matrix:\\n',confusion_matrix(lr_y_pred,y_test))"
   ]
  },
  {
   "source": [
    "### 3. DECISION TREE CLASSIFIER"
   ],
   "cell_type": "markdown",
   "metadata": {}
  },
  {
   "cell_type": "code",
   "execution_count": null,
   "metadata": {},
   "outputs": [],
   "source": [
    "DTC = DecisionTreeClassifier(random_state=10)\n",
    "DTC.fit(x_train,y_train)"
   ]
  },
  {
   "cell_type": "code",
   "execution_count": null,
   "metadata": {},
   "outputs": [],
   "source": [
    "DTC_y_pred = DTC.predict(x_test)\n",
    "DTC_accuracy = accuracy_score(DTC_y_pred,y_test)\n",
    "DTC_recall = recall_score(DTC_y_pred,y_test)\n",
    "DTC_precision = precision_score(DTC_y_pred,y_test)\n",
    "print(classification_report(DTC_y_pred,y_test))\n",
    "print('Confusion Matrix:\\n',confusion_matrix(DTC_y_pred,y_test))"
   ]
  },
  {
   "source": [
    "## D. MODEL IMPROVEMENT & HYPERPARAMETER TUNING"
   ],
   "cell_type": "markdown",
   "metadata": {}
  },
  {
   "cell_type": "code",
   "execution_count": null,
   "metadata": {},
   "outputs": [],
   "source": [
    "model = RandomForestClassifier()\n",
    "\n",
    "estimator_rf = Pipeline([('transformer', transformer), ('model', model)])\n",
    "estimator_rf.fit(x_train, y_train)\n",
    "\n",
    "y_pred = estimator_rf.predict(x_test)\n",
    "print(classification_report(y_test, y_pred))"
   ]
  },
  {
   "cell_type": "code",
   "execution_count": null,
   "metadata": {},
   "outputs": [],
   "source": [
    "f, ax = plt.subplots(figsize=(8, 5))\n",
    "sns.heatmap(confusion_matrix(y_test, y_pred), annot=True, fmt='.0f', ax=ax)\n",
    "plt.xlabel('y Prediksi')\n",
    "plt.ylabel('y Aktual')\n",
    "plt.show()"
   ]
  }
 ]
}